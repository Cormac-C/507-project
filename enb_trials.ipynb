{
 "cells": [
  {
   "cell_type": "code",
   "execution_count": null,
   "metadata": {},
   "outputs": [],
   "source": [
    "%reload_ext autoreload\n",
    "%autoreload 2\n",
    "\n",
    "import os\n",
    "import sys\n",
    "sys.path.append(os.path.join(os.getcwd(), '..'))\n",
    "\n",
    "from sklearn.datasets import fetch_openml\n",
    "\n",
    "from utils import *\n",
    "from models import *"
   ]
  },
  {
   "cell_type": "code",
   "execution_count": 3,
   "metadata": {},
   "outputs": [],
   "source": [
    "enb_df = fetch_openml(data_id=41553, as_frame=True)"
   ]
  },
  {
   "cell_type": "code",
   "execution_count": 4,
   "metadata": {},
   "outputs": [],
   "source": [
    "X = enb_df.data\n",
    "y = enb_df.target"
   ]
  },
  {
   "cell_type": "code",
   "execution_count": 5,
   "metadata": {},
   "outputs": [
    {
     "name": "stdout",
     "output_type": "stream",
     "text": [
      "   Relative_compactness     X1     X3      X4   X5  X6   X7  X8\n",
      "0                  0.98  514.5  294.0  110.25  7.0   2  0.0   0\n",
      "1                  0.98  514.5  294.0  110.25  7.0   3  0.0   0\n",
      "2                  0.98  514.5  294.0  110.25  7.0   4  0.0   0\n",
      "3                  0.98  514.5  294.0  110.25  7.0   5  0.0   0\n",
      "4                  0.90  563.5  318.5  122.50  7.0   2  0.0   0\n",
      "      Y1     Y2\n",
      "0  15.55  21.33\n",
      "1  15.55  21.33\n",
      "2  15.55  21.33\n",
      "3  15.55  21.33\n",
      "4  20.84  28.28\n"
     ]
    }
   ],
   "source": [
    "print(X.head())\n",
    "print(y.head())"
   ]
  },
  {
   "cell_type": "code",
   "execution_count": 6,
   "metadata": {},
   "outputs": [],
   "source": [
    "# Normalize the data\n",
    "X = (X - X.mean()) / X.std()\n",
    "y = (y - y.mean()) / y.std()\n",
    "\n",
    "# Turn to numpy arrays\n",
    "X = X.to_numpy()\n",
    "y = y.to_numpy()"
   ]
  },
  {
   "cell_type": "markdown",
   "metadata": {},
   "source": [
    "# Single Task XGBoost"
   ]
  },
  {
   "cell_type": "code",
   "execution_count": 7,
   "metadata": {},
   "outputs": [
    {
     "name": "stdout",
     "output_type": "stream",
     "text": [
      "Best MSE: 0.0015500464865085756\n",
      "Best R2: 0.998207528677939\n",
      "Average MSE: 0.002254227901712763\n",
      "Average R2: 0.9977422842152499\n"
     ]
    }
   ],
   "source": [
    "# Only look at first task\n",
    "y_1 = y[:, 0]\n",
    "\n",
    "best_model, best_mse, best_r2, average_mse, average_r2 = train_xgboost_single_task(\n",
    "    input_data=X,\n",
    "    output_data=y_1,\n",
    "    k=5\n",
    ")\n",
    "\n",
    "print(f\"Best MSE: {best_mse}\")\n",
    "print(f\"Best R2: {best_r2}\")\n",
    "print(f\"Average MSE: {average_mse}\")\n",
    "print(f\"Average R2: {average_r2}\")"
   ]
  },
  {
   "cell_type": "code",
   "execution_count": 8,
   "metadata": {},
   "outputs": [
    {
     "name": "stdout",
     "output_type": "stream",
     "text": [
      "Best MSE: 0.020278029123775753\n",
      "Best R2: 0.9774692661146492\n",
      "Average MSE: 0.025950922473537485\n",
      "Average R2: 0.9739226631277539\n"
     ]
    }
   ],
   "source": [
    "# Only look at second task\n",
    "y_2 = y[:, 1]\n",
    "\n",
    "best_model, best_mse, best_r2, average_mse, average_r2 = train_xgboost_single_task(\n",
    "    input_data=X,\n",
    "    output_data=y_2,\n",
    "    k=5\n",
    ")\n",
    "\n",
    "print(f\"Best MSE: {best_mse}\")\n",
    "print(f\"Best R2: {best_r2}\")\n",
    "print(f\"Average MSE: {average_mse}\")\n",
    "print(f\"Average R2: {average_r2}\")"
   ]
  },
  {
   "cell_type": "markdown",
   "metadata": {},
   "source": [
    "# Multitask XGBoost"
   ]
  },
  {
   "cell_type": "code",
   "execution_count": 9,
   "metadata": {},
   "outputs": [
    {
     "name": "stdout",
     "output_type": "stream",
     "text": [
      "Best MSE: [0.00165123 0.02004072]\n",
      "Best R2: [0.99809052 0.97773294]\n",
      "Average MSE: [0.00236093 0.02657255]\n",
      "Average R2: [0.99763762 0.97328113]\n"
     ]
    }
   ],
   "source": [
    "best_model, best_mse, best_r2, average_mse, average_r2 = train_xgboost_multi_task(\n",
    "    input_data=X,\n",
    "    output_data=y,\n",
    "    k=5\n",
    ")\n",
    "\n",
    "print(f\"Best MSE: {best_mse}\")\n",
    "print(f\"Best R2: {best_r2}\")\n",
    "print(f\"Average MSE: {average_mse}\")\n",
    "print(f\"Average R2: {average_r2}\")"
   ]
  },
  {
   "cell_type": "markdown",
   "metadata": {},
   "source": [
    "The performance of both multitask and singletask variants are so high that it's hard ot draw a meaningful conclusion, may need a harder dataset."
   ]
  }
 ],
 "metadata": {
  "kernelspec": {
   "display_name": "aps-work",
   "language": "python",
   "name": "python3"
  },
  "language_info": {
   "codemirror_mode": {
    "name": "ipython",
    "version": 3
   },
   "file_extension": ".py",
   "mimetype": "text/x-python",
   "name": "python",
   "nbconvert_exporter": "python",
   "pygments_lexer": "ipython3",
   "version": "3.12.6"
  }
 },
 "nbformat": 4,
 "nbformat_minor": 2
}
