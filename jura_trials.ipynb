{
 "cells": [
  {
   "cell_type": "code",
   "execution_count": 46,
   "metadata": {},
   "outputs": [],
   "source": [
    "%reload_ext autoreload\n",
    "%autoreload 2\n",
    "\n",
    "import os\n",
    "import sys\n",
    "import pandas as pd\n",
    "sys.path.append(os.path.join(os.getcwd(), '..'))\n",
    "\n",
    "from sklearn.datasets import fetch_openml\n",
    "\n",
    "from utils import *\n",
    "from models import *"
   ]
  },
  {
   "cell_type": "code",
   "execution_count": 3,
   "metadata": {},
   "outputs": [
    {
     "name": "stderr",
     "output_type": "stream",
     "text": [
      "/Users/cormaccureton/mambaforge/envs/aps-work/lib/python3.12/site-packages/sklearn/datasets/_openml.py:110: UserWarning: A network error occurred while downloading https://api.openml.org/api/v1/json/data/qualities/41554. Retrying...\n",
      "  warn(\n"
     ]
    }
   ],
   "source": [
    "jura_df = fetch_openml(data_id=41554, as_frame=True)"
   ]
  },
  {
   "cell_type": "code",
   "execution_count": 4,
   "metadata": {},
   "outputs": [],
   "source": [
    "X = jura_df.data\n",
    "y = jura_df.target"
   ]
  },
  {
   "cell_type": "code",
   "execution_count": 5,
   "metadata": {},
   "outputs": [
    {
     "name": "stdout",
     "output_type": "stream",
     "text": [
      "    Xloc   Yloc  Landuse_1  Landuse_2  Landuse_3  Landuse_4  Rock_1  Rock_2  \\\n",
      "0  2.386  3.077          0          0          1          0       0       0   \n",
      "1  2.544  1.972          0          1          0          0       0       1   \n",
      "2  2.807  3.347          0          1          0          0       0       0   \n",
      "3  4.308  1.933          0          0          1          0       0       1   \n",
      "4  4.383  1.081          0          0          1          0       0       0   \n",
      "\n",
      "   Rock_3  Rock_4  Rock_5     Cr     Ni     Pb     Zn  \n",
      "0       1       0       0  38.32  21.32  77.36  92.56  \n",
      "1       0       0       0  40.20  29.72  77.88  73.56  \n",
      "2       1       0       0  47.00  21.40  30.80  64.80  \n",
      "3       0       0       0  43.52  29.72  56.40  90.00  \n",
      "4       0       0       1  38.52  26.20  66.40  88.40  \n",
      "      Cd     Co     Cu\n",
      "0  1.740   9.32  25.72\n",
      "1  1.335  10.00  24.76\n",
      "2  1.610  10.60   8.88\n",
      "3  2.150  11.92  22.70\n",
      "4  1.565  16.32  34.32\n"
     ]
    }
   ],
   "source": [
    "print(X.head())\n",
    "print(y.head())"
   ]
  },
  {
   "cell_type": "code",
   "execution_count": 6,
   "metadata": {},
   "outputs": [],
   "source": [
    "# Normalize the data\n",
    "X = (X - X.mean()) / X.std()\n",
    "y = (y - y.mean()) / y.std()\n",
    "\n",
    "# Turn to numpy arrays\n",
    "X = X.to_numpy()\n",
    "y = y.to_numpy()"
   ]
  },
  {
   "cell_type": "markdown",
   "metadata": {},
   "source": [
    "# Single Task XGBoost"
   ]
  },
  {
   "cell_type": "code",
   "execution_count": 10,
   "metadata": {},
   "outputs": [
    {
     "name": "stdout",
     "output_type": "stream",
     "text": [
      "Best MSE: 0.327139237957867\n",
      "Best R2: 0.6279038487778417\n",
      "Average MSE: 0.480845266927657\n",
      "Average R2: 0.5124661557112108\n"
     ]
    }
   ],
   "source": [
    "# Only look at first task\n",
    "y_1 = y[:, 0]\n",
    "\n",
    "best_model, best_mse, best_r2, average_mse, average_r2 = train_xgboost_single_task(\n",
    "    input_data=X,\n",
    "    output_data=y_1,\n",
    "    k=5\n",
    ")\n",
    "\n",
    "print(f\"Best MSE: {best_mse}\")\n",
    "print(f\"Best R2: {best_r2}\")\n",
    "print(f\"Average MSE: {average_mse}\")\n",
    "print(f\"Average R2: {average_r2}\")"
   ]
  },
  {
   "cell_type": "code",
   "execution_count": 14,
   "metadata": {},
   "outputs": [
    {
     "name": "stdout",
     "output_type": "stream",
     "text": [
      "Best MSE: 0.2412033784623537\n",
      "Best R2: 0.7443698359291588\n",
      "Average MSE: 0.28506652005117966\n",
      "Average R2: 0.7088873480270462\n"
     ]
    }
   ],
   "source": [
    "# Only look at second task\n",
    "y_2 = y[:, 1]\n",
    "\n",
    "best_model, best_mse, best_r2, average_mse, average_r2 = train_xgboost_single_task(\n",
    "    input_data=X,\n",
    "    output_data=y_2,\n",
    "    k=5\n",
    ")\n",
    "\n",
    "print(f\"Best MSE: {best_mse}\")\n",
    "print(f\"Best R2: {best_r2}\")\n",
    "print(f\"Average MSE: {average_mse}\")\n",
    "print(f\"Average R2: {average_r2}\")"
   ]
  },
  {
   "cell_type": "code",
   "execution_count": 15,
   "metadata": {},
   "outputs": [
    {
     "name": "stdout",
     "output_type": "stream",
     "text": [
      "Best MSE: 0.11155033994208778\n",
      "Best R2: 0.850893942810337\n",
      "Average MSE: 0.33882165416190924\n",
      "Average R2: 0.7014987096029501\n"
     ]
    }
   ],
   "source": [
    "# Only look at third task\n",
    "y_3 = y[:, 2]\n",
    "\n",
    "best_model, best_mse, best_r2, average_mse, average_r2 = train_xgboost_single_task(\n",
    "    input_data=X,\n",
    "    output_data=y_3,\n",
    "    k=5\n",
    ")\n",
    "\n",
    "print(f\"Best MSE: {best_mse}\")\n",
    "print(f\"Best R2: {best_r2}\")\n",
    "print(f\"Average MSE: {average_mse}\")\n",
    "print(f\"Average R2: {average_r2}\")"
   ]
  },
  {
   "cell_type": "markdown",
   "metadata": {},
   "source": [
    "# Multitask XGBoost"
   ]
  },
  {
   "cell_type": "code",
   "execution_count": 16,
   "metadata": {},
   "outputs": [
    {
     "name": "stdout",
     "output_type": "stream",
     "text": [
      "Best MSE: [0.32462487 0.32822682 0.13700244]\n",
      "Best R2: [0.63076375 0.69849187 0.75053333]\n",
      "Average MSE: [0.45263412 0.29917601 0.33397822]\n",
      "Average R2: [0.53838744 0.69430447 0.70340622]\n"
     ]
    }
   ],
   "source": [
    "best_model, best_mse, best_r2, average_mse, average_r2 = train_xgboost_multi_task(\n",
    "    input_data=X,\n",
    "    output_data=y,\n",
    "    k=5\n",
    ")\n",
    "\n",
    "print(f\"Best MSE: {best_mse}\")\n",
    "print(f\"Best R2: {best_r2}\")\n",
    "print(f\"Average MSE: {average_mse}\")\n",
    "print(f\"Average R2: {average_r2}\")"
   ]
  },
  {
   "cell_type": "markdown",
   "metadata": {},
   "source": [
    "Some weaker performance but we see slight negative transfer, would be worth doing an HP search with this dataset"
   ]
  },
  {
   "cell_type": "markdown",
   "metadata": {},
   "source": [
    "# Singletask TabPFN"
   ]
  },
  {
   "cell_type": "code",
   "execution_count": 19,
   "metadata": {},
   "outputs": [
    {
     "name": "stdout",
     "output_type": "stream",
     "text": [
      "Best MSE: 0.3171373097006867\n",
      "Best R2: 0.6392802860176211\n",
      "Average MSE: 0.40894190911036904\n",
      "Average R2: 0.5782823985273418\n"
     ]
    }
   ],
   "source": [
    "best_model, best_mse, best_r2, average_mse, average_r2 = train_tabpfn_single_task(\n",
    "    input_data=X,\n",
    "    output_data=y_1,\n",
    "    k=5\n",
    ")\n",
    "\n",
    "print(f\"Best MSE: {best_mse}\")\n",
    "print(f\"Best R2: {best_r2}\")\n",
    "print(f\"Average MSE: {average_mse}\")\n",
    "print(f\"Average R2: {average_r2}\")"
   ]
  },
  {
   "cell_type": "code",
   "execution_count": 20,
   "metadata": {},
   "outputs": [
    {
     "name": "stdout",
     "output_type": "stream",
     "text": [
      "Best MSE: 0.17567270153432255\n",
      "Best R2: 0.8138200144530904\n",
      "Average MSE: 0.23634494431667288\n",
      "Average R2: 0.7588675479508558\n"
     ]
    }
   ],
   "source": [
    "best_model, best_mse, best_r2, average_mse, average_r2 = train_tabpfn_single_task(\n",
    "    input_data=X,\n",
    "    output_data=y_2,\n",
    "    k=5\n",
    ")\n",
    "\n",
    "print(f\"Best MSE: {best_mse}\")\n",
    "print(f\"Best R2: {best_r2}\")\n",
    "print(f\"Average MSE: {average_mse}\")\n",
    "print(f\"Average R2: {average_r2}\")"
   ]
  },
  {
   "cell_type": "code",
   "execution_count": 21,
   "metadata": {},
   "outputs": [
    {
     "name": "stdout",
     "output_type": "stream",
     "text": [
      "Best MSE: 0.10503935365006617\n",
      "Best R2: 0.8087346685230185\n",
      "Average MSE: 0.3226487321772598\n",
      "Average R2: 0.6997527305294512\n"
     ]
    }
   ],
   "source": [
    "best_model, best_mse, best_r2, average_mse, average_r2 = train_tabpfn_single_task(\n",
    "    input_data=X,\n",
    "    output_data=y_3,\n",
    "    k=5\n",
    ")\n",
    "\n",
    "print(f\"Best MSE: {best_mse}\")\n",
    "print(f\"Best R2: {best_r2}\")\n",
    "print(f\"Average MSE: {average_mse}\")\n",
    "print(f\"Average R2: {average_r2}\")"
   ]
  },
  {
   "cell_type": "markdown",
   "metadata": {},
   "source": [
    "# HP Search Single task"
   ]
  },
  {
   "cell_type": "code",
   "execution_count": 48,
   "metadata": {},
   "outputs": [
    {
     "name": "stderr",
     "output_type": "stream",
     "text": [
      "100%|██████████| 60/60 [00:30<00:00,  1.94it/s]"
     ]
    },
    {
     "name": "stdout",
     "output_type": "stream",
     "text": [
      "Best Metrics: {'MSE': 0.45666586317950897, 'R2': 0.5393191973556558}\n",
      "Best Hyperparameters: {'num_est': 100, 'max_d': 5, 'lr': 0.1}\n"
     ]
    },
    {
     "name": "stderr",
     "output_type": "stream",
     "text": [
      "\n"
     ]
    }
   ],
   "source": [
    "best_metrics, best_hps, full_results = hp_xg_boost_single_task(\n",
    "    input_data=X,\n",
    "    output_data=y_1,\n",
    "    k=5\n",
    ")\n",
    "\n",
    "print(f\"Best Metrics: {best_metrics}\")\n",
    "print(f\"Best Hyperparameters: {best_hps}\")\n",
    "\n",
    "# Save the results\n",
    "full_results.to_csv(\"results/jura_single_task_1_results.csv\", index=False)\n"
   ]
  },
  {
   "cell_type": "code",
   "execution_count": 49,
   "metadata": {},
   "outputs": [
    {
     "name": "stderr",
     "output_type": "stream",
     "text": [
      "100%|██████████| 60/60 [00:31<00:00,  1.89it/s]"
     ]
    },
    {
     "name": "stdout",
     "output_type": "stream",
     "text": [
      "Best Metrics: {'MSE': 0.27324447664949686, 'R2': 0.7216448825617554}\n",
      "Best Hyperparameters: {'num_est': 100, 'max_d': 5, 'lr': 0.1}\n"
     ]
    },
    {
     "name": "stderr",
     "output_type": "stream",
     "text": [
      "\n"
     ]
    }
   ],
   "source": [
    "best_metrics, best_hps, full_results = hp_xg_boost_single_task(\n",
    "    input_data=X,\n",
    "    output_data=y_2,\n",
    "    k=5\n",
    ")\n",
    "\n",
    "print(f\"Best Metrics: {best_metrics}\")\n",
    "print(f\"Best Hyperparameters: {best_hps}\")\n",
    "\n",
    "# Save the results\n",
    "full_results.to_csv(\"results/jura_single_task_2_results.csv\", index=False)"
   ]
  },
  {
   "cell_type": "code",
   "execution_count": 50,
   "metadata": {},
   "outputs": [
    {
     "name": "stderr",
     "output_type": "stream",
     "text": [
      "100%|██████████| 60/60 [00:31<00:00,  1.92it/s]"
     ]
    },
    {
     "name": "stdout",
     "output_type": "stream",
     "text": [
      "Best Metrics: {'MSE': 0.31863435430275444, 'R2': 0.723825874485345}\n",
      "Best Hyperparameters: {'num_est': 500, 'max_d': 5, 'lr': 0.01}\n"
     ]
    },
    {
     "name": "stderr",
     "output_type": "stream",
     "text": [
      "\n"
     ]
    }
   ],
   "source": [
    "best_metrics, best_hps, full_results = hp_xg_boost_single_task(\n",
    "    input_data=X,\n",
    "    output_data=y_3,\n",
    "    k=5\n",
    ")\n",
    "\n",
    "print(f\"Best Metrics: {best_metrics}\")\n",
    "print(f\"Best Hyperparameters: {best_hps}\")\n",
    "\n",
    "# Save the results\n",
    "full_results.to_csv(\"results/jura_single_task_3_results.csv\", index=False)"
   ]
  },
  {
   "cell_type": "code",
   "execution_count": 51,
   "metadata": {},
   "outputs": [
    {
     "name": "stderr",
     "output_type": "stream",
     "text": [
      "100%|██████████| 180/180 [15:33<00:00,  5.19s/it]"
     ]
    },
    {
     "name": "stdout",
     "output_type": "stream",
     "text": [
      "Best Metrics: {'MSE': array([0.45722922, 0.27688188, 0.32149966]), 'R2': array([0.5402325 , 0.71728651, 0.72033107])}\n",
      "Best Hyperparameters: {'num_est': 500, 'max_d': 5, 'lr': 0.01}\n"
     ]
    },
    {
     "name": "stderr",
     "output_type": "stream",
     "text": [
      "\n"
     ]
    }
   ],
   "source": [
    "best_metrics, best_hps, full_results = hp_xg_boost_multi_task(\n",
    "    input_data=X,\n",
    "    output_data=y,\n",
    "    k=5\n",
    ")\n",
    "\n",
    "print(f\"Best Metrics: {best_metrics}\")\n",
    "print(f\"Best Hyperparameters: {best_hps}\")\n",
    "\n",
    "# Save the results\n",
    "full_results.to_csv(\"results/jura_multi_task_results.csv\", index=False)"
   ]
  }
 ],
 "metadata": {
  "kernelspec": {
   "display_name": "aps-work",
   "language": "python",
   "name": "python3"
  },
  "language_info": {
   "codemirror_mode": {
    "name": "ipython",
    "version": 3
   },
   "file_extension": ".py",
   "mimetype": "text/x-python",
   "name": "python",
   "nbconvert_exporter": "python",
   "pygments_lexer": "ipython3",
   "version": "3.12.6"
  }
 },
 "nbformat": 4,
 "nbformat_minor": 2
}
