{
 "cells": [
  {
   "cell_type": "code",
   "execution_count": 15,
   "id": "812fbd33",
   "metadata": {},
   "outputs": [],
   "source": [
    "%reload_ext autoreload\n",
    "%autoreload 2"
   ]
  },
  {
   "cell_type": "code",
   "execution_count": 16,
   "id": "dfe318bb",
   "metadata": {},
   "outputs": [],
   "source": [
    "import os\n",
    "import sys\n",
    "from sklearn.datasets import fetch_openml\n",
    "import pandas as pd"
   ]
  },
  {
   "cell_type": "code",
   "execution_count": 17,
   "id": "d2ae1afe",
   "metadata": {},
   "outputs": [],
   "source": [
    "sys.path.append(os.path.join(os.getcwd(), '..'))\n",
    "\n",
    "from utils import *\n",
    "from models import *\n",
    "from experiments import *"
   ]
  },
  {
   "cell_type": "code",
   "execution_count": 18,
   "id": "646d1f3a",
   "metadata": {},
   "outputs": [],
   "source": [
    "logging.basicConfig(level=logging.INFO, format='%(asctime)s - %(levelname)s - %(message)s')"
   ]
  },
  {
   "cell_type": "markdown",
   "id": "868aa028",
   "metadata": {},
   "source": [
    "# Jura Data"
   ]
  },
  {
   "cell_type": "code",
   "execution_count": 19,
   "id": "8a7b43dc",
   "metadata": {},
   "outputs": [],
   "source": [
    "jura_data = fetch_openml(data_id=41554, as_frame=True)"
   ]
  },
  {
   "cell_type": "code",
   "execution_count": 20,
   "id": "e64fa545",
   "metadata": {},
   "outputs": [
    {
     "name": "stderr",
     "output_type": "stream",
     "text": [
      "2025-04-07 22:12:46,741 - INFO - Running multi-task trial\n",
      "100%|██████████| 60/60 [01:03<00:00,  1.06s/it]\n",
      "2025-04-07 22:13:50,564 - INFO - Best metrics: {'MSE': array([  0.33320416,   4.15276729, 165.32544016]), 'R2': array([0.54527372, 0.66797458, 0.69491386])}\n",
      "2025-04-07 22:13:50,565 - INFO - Best hyperparameters: {'num_est': 500, 'max_d': 2, 'lr': 0.1}\n"
     ]
    }
   ],
   "source": [
    "# Run multitask trial with normalized data\n",
    "jura_multitask_metrics, jura_multitask_hps, jura_multitask_results = xg_boost_trial(\n",
    "    data=jura_data,\n",
    "    normalize=True,\n",
    "    cross_validation_k=5,\n",
    "    multi_task=True,\n",
    "    data_name='jura'\n",
    ")"
   ]
  },
  {
   "cell_type": "code",
   "execution_count": 21,
   "id": "76846b49",
   "metadata": {},
   "outputs": [
    {
     "name": "stderr",
     "output_type": "stream",
     "text": [
      "2025-04-07 22:13:50,659 - INFO - Running multi-task trial\n",
      "100%|██████████| 60/60 [01:04<00:00,  1.07s/it]\n",
      "2025-04-07 22:14:54,851 - INFO - Best metrics: {'MSE': array([  0.32620767,   4.16816959, 166.50717716]), 'R2': array([0.55265462, 0.6666662 , 0.69191521])}\n",
      "2025-04-07 22:14:54,851 - INFO - Best hyperparameters: {'num_est': 500, 'max_d': 2, 'lr': 0.1}\n"
     ]
    }
   ],
   "source": [
    "# Run multitask trial without normalization\n",
    "jura_multitask_metrics, jura_multitask_hps, jura_multitask_results = xg_boost_trial(\n",
    "    data=jura_data,\n",
    "    normalize=False,\n",
    "    cross_validation_k=5,\n",
    "    multi_task=True,\n",
    "    data_name='jura'\n",
    ")"
   ]
  },
  {
   "cell_type": "code",
   "execution_count": 22,
   "id": "05895b6c",
   "metadata": {},
   "outputs": [
    {
     "name": "stderr",
     "output_type": "stream",
     "text": [
      "2025-04-07 22:14:54,939 - INFO - Running single-task trial\n",
      "2025-04-07 22:14:54,939 - INFO - Number of targets: 3\n",
      "2025-04-07 22:14:54,939 - INFO - Running trial for target: Cd\n",
      "100%|██████████| 60/60 [00:29<00:00,  2.01it/s]\n",
      "2025-04-07 22:15:24,726 - INFO - Cd Best metrics: {'MSE': 0.3370419339756432, 'R2': 0.5393191684186964}\n",
      "2025-04-07 22:15:24,726 - INFO - Cd Best hyperparameters: {'num_est': 100, 'max_d': 5, 'lr': 0.1}\n",
      "2025-04-07 22:15:24,726 - INFO - Running trial for target: Co\n",
      "100%|██████████| 60/60 [00:29<00:00,  2.05it/s]\n",
      "2025-04-07 22:15:53,934 - INFO - Co Best metrics: {'MSE': 3.479059245464112, 'R2': 0.7216449397093337}\n",
      "2025-04-07 22:15:53,934 - INFO - Co Best hyperparameters: {'num_est': 100, 'max_d': 5, 'lr': 0.1}\n",
      "2025-04-07 22:15:53,934 - INFO - Running trial for target: Cu\n",
      "100%|██████████| 60/60 [00:30<00:00,  1.98it/s]\n",
      "2025-04-07 22:16:24,290 - INFO - Cu Best metrics: {'MSE': 157.99285982343662, 'R2': 0.7238361751321113}\n",
      "2025-04-07 22:16:24,290 - INFO - Cu Best hyperparameters: {'num_est': 500, 'max_d': 5, 'lr': 0.01}\n",
      "2025-04-07 22:16:24,290 - INFO - Complete best metrics: {'Cd': {'MSE': 0.3370419339756432, 'R2': 0.5393191684186964}, 'Co': {'MSE': 3.479059245464112, 'R2': 0.7216449397093337}, 'Cu': {'MSE': 157.99285982343662, 'R2': 0.7238361751321113}}\n",
      "2025-04-07 22:16:24,291 - INFO - Complete best hyperparameters: {'Cd': {'num_est': 100, 'max_d': 5, 'lr': 0.1}, 'Co': {'num_est': 100, 'max_d': 5, 'lr': 0.1}, 'Cu': {'num_est': 500, 'max_d': 5, 'lr': 0.01}}\n"
     ]
    }
   ],
   "source": [
    "# Run single task trial with normalized data\n",
    "jura_single_task_metrics, jura_single_task_hps, jura_single_task_results = xg_boost_trial(\n",
    "    data=jura_data,\n",
    "    normalize=True,\n",
    "    cross_validation_k=5,\n",
    "    multi_task=False,\n",
    "    data_name='jura'\n",
    ")"
   ]
  },
  {
   "cell_type": "code",
   "execution_count": 23,
   "id": "9ae32780",
   "metadata": {},
   "outputs": [
    {
     "name": "stderr",
     "output_type": "stream",
     "text": [
      "2025-04-07 22:16:24,418 - INFO - Running single-task trial\n",
      "2025-04-07 22:16:24,418 - INFO - Number of targets: 3\n",
      "2025-04-07 22:16:24,419 - INFO - Running trial for target: Cd\n",
      "100%|██████████| 60/60 [00:30<00:00,  1.95it/s]\n",
      "2025-04-07 22:16:55,120 - INFO - Cd Best metrics: {'MSE': 0.3370419135154396, 'R2': 0.5393191779566326}\n",
      "2025-04-07 22:16:55,121 - INFO - Cd Best hyperparameters: {'num_est': 100, 'max_d': 5, 'lr': 0.1}\n",
      "2025-04-07 22:16:55,121 - INFO - Running trial for target: Co\n",
      "100%|██████████| 60/60 [00:30<00:00,  1.94it/s]\n",
      "2025-04-07 22:17:26,091 - INFO - Co Best metrics: {'MSE': 3.4790594444065968, 'R2': 0.7216449218102079}\n",
      "2025-04-07 22:17:26,092 - INFO - Co Best hyperparameters: {'num_est': 100, 'max_d': 5, 'lr': 0.1}\n",
      "2025-04-07 22:17:26,092 - INFO - Running trial for target: Cu\n",
      "100%|██████████| 60/60 [00:30<00:00,  1.94it/s]\n",
      "2025-04-07 22:17:57,077 - INFO - Cu Best metrics: {'MSE': 158.03837993288073, 'R2': 0.7236878323553718}\n",
      "2025-04-07 22:17:57,078 - INFO - Cu Best hyperparameters: {'num_est': 500, 'max_d': 5, 'lr': 0.01}\n",
      "2025-04-07 22:17:57,078 - INFO - Complete best metrics: {'Cd': {'MSE': 0.3370419135154396, 'R2': 0.5393191779566326}, 'Co': {'MSE': 3.4790594444065968, 'R2': 0.7216449218102079}, 'Cu': {'MSE': 158.03837993288073, 'R2': 0.7236878323553718}}\n",
      "2025-04-07 22:17:57,078 - INFO - Complete best hyperparameters: {'Cd': {'num_est': 100, 'max_d': 5, 'lr': 0.1}, 'Co': {'num_est': 100, 'max_d': 5, 'lr': 0.1}, 'Cu': {'num_est': 500, 'max_d': 5, 'lr': 0.01}}\n"
     ]
    }
   ],
   "source": [
    "# Run single task trial without normalization\n",
    "jura_single_task_metrics, jura_single_task_hps, jura_single_task_results = xg_boost_trial(\n",
    "    data=jura_data,\n",
    "    normalize=False,\n",
    "    cross_validation_k=5,\n",
    "    multi_task=False,\n",
    "    data_name='jura'\n",
    ")"
   ]
  },
  {
   "cell_type": "markdown",
   "id": "e3a768de",
   "metadata": {},
   "source": []
  }
 ],
 "metadata": {
  "kernelspec": {
   "display_name": "507-proj",
   "language": "python",
   "name": "python3"
  },
  "language_info": {
   "codemirror_mode": {
    "name": "ipython",
    "version": 3
   },
   "file_extension": ".py",
   "mimetype": "text/x-python",
   "name": "python",
   "nbconvert_exporter": "python",
   "pygments_lexer": "ipython3",
   "version": "3.13.2"
  }
 },
 "nbformat": 4,
 "nbformat_minor": 5
}
