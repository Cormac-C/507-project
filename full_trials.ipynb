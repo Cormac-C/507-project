{
 "cells": [
  {
   "cell_type": "code",
   "execution_count": 13,
   "id": "812fbd33",
   "metadata": {},
   "outputs": [],
   "source": [
    "%reload_ext autoreload\n",
    "%autoreload 2"
   ]
  },
  {
   "cell_type": "code",
   "execution_count": 14,
   "id": "dfe318bb",
   "metadata": {},
   "outputs": [],
   "source": [
    "import os\n",
    "import sys\n",
    "from sklearn.datasets import fetch_openml\n",
    "import pandas as pd"
   ]
  },
  {
   "cell_type": "code",
   "execution_count": 15,
   "id": "d2ae1afe",
   "metadata": {},
   "outputs": [],
   "source": [
    "sys.path.append(os.path.join(os.getcwd(), '..'))\n",
    "\n",
    "from utils import *\n",
    "from models import *\n",
    "from experiments import *"
   ]
  },
  {
   "cell_type": "code",
   "execution_count": 16,
   "id": "646d1f3a",
   "metadata": {},
   "outputs": [],
   "source": [
    "logging.basicConfig(level=logging.INFO, format='%(asctime)s - %(levelname)s - %(message)s')"
   ]
  },
  {
   "cell_type": "markdown",
   "id": "868aa028",
   "metadata": {},
   "source": [
    "# Jura Data"
   ]
  },
  {
   "cell_type": "code",
   "execution_count": 17,
   "id": "8a7b43dc",
   "metadata": {},
   "outputs": [],
   "source": [
    "jura_data = fetch_openml(data_id=41554, as_frame=True)"
   ]
  },
  {
   "cell_type": "code",
   "execution_count": 19,
   "id": "e64fa545",
   "metadata": {},
   "outputs": [
    {
     "name": "stderr",
     "output_type": "stream",
     "text": [
      "2025-04-07 21:52:59,806 - INFO - Running multi-task trial\n",
      "  0%|          | 0/60 [00:00<?, ?it/s]2025-04-07 21:52:59,833 - INFO - New best model found with n_estimators=10, max_depth=1, learning_rate=0.1\n",
      "2025-04-07 21:52:59,834 - INFO - Average MSE: [ 12.85192762  13.66046292 294.93582795]\n",
      "2025-04-07 21:52:59,835 - INFO - Average R2: [-17.68265398  -0.0937517    0.432259  ]\n",
      "2025-04-07 21:52:59,835 - INFO - Multi-task strategy: multi_output_tree\n",
      "2025-04-07 21:52:59,836 - INFO - Norm of average R2: 17.688185013450283\n",
      "2025-04-07 21:52:59,862 - INFO - New best model found with n_estimators=10, max_depth=1, learning_rate=0.01\n",
      "2025-04-07 21:52:59,863 - INFO - Average MSE: [ 81.30595804  19.69231726 588.62430519]\n",
      "2025-04-07 21:52:59,863 - INFO - Average R2: [-117.55908899   -0.57759116   -0.20121763]\n",
      "2025-04-07 21:52:59,863 - INFO - Multi-task strategy: multi_output_tree\n",
      "2025-04-07 21:52:59,863 - INFO - Norm of average R2: 117.56068009227059\n",
      "2025-04-07 21:52:59,891 - INFO - New best model found with n_estimators=10, max_depth=1, learning_rate=0.001\n",
      "2025-04-07 21:52:59,892 - INFO - Average MSE: [ 97.17212631  21.0731116  651.91083289]\n",
      "2025-04-07 21:52:59,892 - INFO - Average R2: [-140.71280975   -0.68842466   -0.33959223]\n",
      "2025-04-07 21:52:59,892 - INFO - Multi-task strategy: multi_output_tree\n",
      "2025-04-07 21:52:59,892 - INFO - Norm of average R2: 140.714903547841\n",
      "  7%|▋         | 4/60 [00:00<00:01, 32.07it/s]2025-04-07 21:53:00,011 - INFO - New best model found with n_estimators=10, max_depth=2, learning_rate=0.001\n",
      "2025-04-07 21:53:00,012 - INFO - Average MSE: [ 97.18071432  21.05842971 651.1474494 ]\n",
      "2025-04-07 21:53:00,012 - INFO - Average R2: [-140.72546018   -0.68721692   -0.33782222]\n",
      "2025-04-07 21:53:00,012 - INFO - Multi-task strategy: multi_output_tree\n",
      "2025-04-07 21:53:00,012 - INFO - Norm of average R2: 140.7275436214552\n",
      " 13%|█▎        | 8/60 [00:00<00:02, 25.31it/s]2025-04-07 21:53:00,165 - INFO - New best model found with n_estimators=10, max_depth=3, learning_rate=0.001\n",
      "2025-04-07 21:53:00,165 - INFO - Average MSE: [ 97.19364452  21.00136102 651.22309931]\n",
      "2025-04-07 21:53:00,166 - INFO - Average R2: [-140.7423284    -0.68255131   -0.33724973]\n",
      "2025-04-07 21:53:00,166 - INFO - Multi-task strategy: multi_output_tree\n",
      "2025-04-07 21:53:00,166 - INFO - Norm of average R2: 140.7443875113628\n",
      " 18%|█▊        | 11/60 [00:00<00:02, 18.65it/s]2025-04-07 21:53:00,428 - INFO - New best model found with n_estimators=10, max_depth=5, learning_rate=0.001\n",
      "2025-04-07 21:53:00,428 - INFO - Average MSE: [ 97.24501572  20.96888583 650.6403593 ]\n",
      "2025-04-07 21:53:00,428 - INFO - Average R2: [-140.81575276   -0.67996752   -0.33575434]\n",
      "2025-04-07 21:53:00,428 - INFO - Multi-task strategy: multi_output_tree\n",
      "2025-04-07 21:53:00,429 - INFO - Norm of average R2: 140.81779472569823\n",
      " 35%|███▌      | 21/60 [00:02<00:03, 10.04it/s]\n"
     ]
    },
    {
     "ename": "KeyboardInterrupt",
     "evalue": "",
     "output_type": "error",
     "traceback": [
      "\u001b[31m---------------------------------------------------------------------------\u001b[39m",
      "\u001b[31mKeyboardInterrupt\u001b[39m                         Traceback (most recent call last)",
      "\u001b[36mCell\u001b[39m\u001b[36m \u001b[39m\u001b[32mIn[19]\u001b[39m\u001b[32m, line 2\u001b[39m\n\u001b[32m      1\u001b[39m \u001b[38;5;66;03m# Run multitask trial with normalized data\u001b[39;00m\n\u001b[32m----> \u001b[39m\u001b[32m2\u001b[39m jura_multitask_metrics, jura_multitask_hps, jura_multitask_results = \u001b[43mxg_boost_trial\u001b[49m\u001b[43m(\u001b[49m\n\u001b[32m      3\u001b[39m \u001b[43m    \u001b[49m\u001b[43mdata\u001b[49m\u001b[43m=\u001b[49m\u001b[43mjura_data\u001b[49m\u001b[43m,\u001b[49m\n\u001b[32m      4\u001b[39m \u001b[43m    \u001b[49m\u001b[43mnormalize\u001b[49m\u001b[43m=\u001b[49m\u001b[38;5;28;43;01mTrue\u001b[39;49;00m\u001b[43m,\u001b[49m\n\u001b[32m      5\u001b[39m \u001b[43m    \u001b[49m\u001b[43mcross_validation_k\u001b[49m\u001b[43m=\u001b[49m\u001b[32;43m5\u001b[39;49m\u001b[43m,\u001b[49m\n\u001b[32m      6\u001b[39m \u001b[43m    \u001b[49m\u001b[43mmulti_task\u001b[49m\u001b[43m=\u001b[49m\u001b[38;5;28;43;01mTrue\u001b[39;49;00m\u001b[43m,\u001b[49m\n\u001b[32m      7\u001b[39m \u001b[43m    \u001b[49m\u001b[43mdata_name\u001b[49m\u001b[43m=\u001b[49m\u001b[33;43m'\u001b[39;49m\u001b[33;43mjura\u001b[39;49m\u001b[33;43m'\u001b[39;49m\n\u001b[32m      8\u001b[39m \u001b[43m)\u001b[49m\n",
      "\u001b[36mFile \u001b[39m\u001b[32m<string>:27\u001b[39m, in \u001b[36mxg_boost_trial\u001b[39m\u001b[34m(data, normalize, cross_validation_k, multi_task, n_estimators_values, max_depth_values, learning_rate_values, verbose, data_name)\u001b[39m\n",
      "\u001b[36mFile \u001b[39m\u001b[32m~/507-project/models.py:209\u001b[39m, in \u001b[36mhp_xg_boost_multi_task\u001b[39m\u001b[34m(input_data, output_data, k, n_estimators_values, max_depth_values, learning_rate_values, multi_task_strategies, verbose)\u001b[39m\n\u001b[32m    198\u001b[39m \u001b[38;5;28;01mfor\u001b[39;00m num_est, max_depth, lr, strategy \u001b[38;5;129;01min\u001b[39;00m tqdm(\n\u001b[32m    199\u001b[39m     itertools.product(\n\u001b[32m    200\u001b[39m         n_estimators_values,\n\u001b[32m   (...)\u001b[39m\u001b[32m    205\u001b[39m     total=num_combinations,\n\u001b[32m    206\u001b[39m ):\n\u001b[32m    207\u001b[39m     \u001b[38;5;28;01mif\u001b[39;00m verbose:\n\u001b[32m    208\u001b[39m         logger.info(\n\u001b[32m--> \u001b[39m\u001b[32m209\u001b[39m             \u001b[33mf\u001b[39m\u001b[33m\"\u001b[39m\u001b[33mTraining with n_estimators=\u001b[39m\u001b[38;5;132;01m{\u001b[39;00mnum_est\u001b[38;5;132;01m}\u001b[39;00m\u001b[33m, max_depth=\u001b[39m\u001b[38;5;132;01m{\u001b[39;00mmax_depth\u001b[38;5;132;01m}\u001b[39;00m\u001b[33m, learning_rate=\u001b[39m\u001b[38;5;132;01m{\u001b[39;00mlr\u001b[38;5;132;01m}\u001b[39;00m\u001b[33m\"\u001b[39m\n\u001b[32m    210\u001b[39m         )\n\u001b[32m    211\u001b[39m     _, _, _, average_mse, average_r2 = train_xgboost_multi_task(\n\u001b[32m    212\u001b[39m         input_data, output_data, k, num_est, max_depth, lr, strategy\n\u001b[32m    213\u001b[39m     )\n\u001b[32m    214\u001b[39m     full_results.append(\n\u001b[32m    215\u001b[39m         (num_est, max_depth, lr, strategy, *average_mse, *average_r2)\n\u001b[32m    216\u001b[39m     )\n",
      "\u001b[36mFile \u001b[39m\u001b[32m~/507-project/models.py:105\u001b[39m, in \u001b[36mtrain_xgboost_multi_task\u001b[39m\u001b[34m(input_data, output_data, k, n_estimators, max_depth, learning_rate, multi_task_strategy)\u001b[39m\n\u001b[32m     99\u001b[39m X_train, X_test = input_data[train_index], input_data[test_index]\n\u001b[32m    100\u001b[39m y_train, y_test = output_data[train_index], output_data[test_index]\n\u001b[32m    101\u001b[39m model = XGBRegressor(\n\u001b[32m    102\u001b[39m     n_estimators=n_estimators,\n\u001b[32m    103\u001b[39m     max_depth=max_depth,\n\u001b[32m    104\u001b[39m     learning_rate=learning_rate,\n\u001b[32m--> \u001b[39m\u001b[32m105\u001b[39m     multi_strategy=multi_task_strategy,\n\u001b[32m    106\u001b[39m )\n\u001b[32m    107\u001b[39m model.fit(X_train, y_train)\n\u001b[32m    108\u001b[39m predictions = model.predict(X_test)\n",
      "\u001b[36mFile \u001b[39m\u001b[32m~/mambaforge/envs/507-proj/lib/python3.13/site-packages/xgboost/core.py:726\u001b[39m, in \u001b[36mrequire_keyword_args.<locals>.throw_if.<locals>.inner_f\u001b[39m\u001b[34m(*args, **kwargs)\u001b[39m\n\u001b[32m    724\u001b[39m \u001b[38;5;28;01mfor\u001b[39;00m k, arg \u001b[38;5;129;01min\u001b[39;00m \u001b[38;5;28mzip\u001b[39m(sig.parameters, args):\n\u001b[32m    725\u001b[39m     kwargs[k] = arg\n\u001b[32m--> \u001b[39m\u001b[32m726\u001b[39m \u001b[38;5;28;01mreturn\u001b[39;00m \u001b[43mfunc\u001b[49m\u001b[43m(\u001b[49m\u001b[43m*\u001b[49m\u001b[43m*\u001b[49m\u001b[43mkwargs\u001b[49m\u001b[43m)\u001b[49m\n",
      "\u001b[36mFile \u001b[39m\u001b[32m~/mambaforge/envs/507-proj/lib/python3.13/site-packages/xgboost/sklearn.py:1170\u001b[39m, in \u001b[36mXGBModel.fit\u001b[39m\u001b[34m(self, X, y, sample_weight, base_margin, eval_set, verbose, xgb_model, sample_weight_eval_set, base_margin_eval_set, feature_weights)\u001b[39m\n\u001b[32m   1167\u001b[39m     obj = \u001b[38;5;28;01mNone\u001b[39;00m\n\u001b[32m   1169\u001b[39m model, metric, params = \u001b[38;5;28mself\u001b[39m._configure_fit(xgb_model, params)\n\u001b[32m-> \u001b[39m\u001b[32m1170\u001b[39m \u001b[38;5;28mself\u001b[39m._Booster = \u001b[43mtrain\u001b[49m\u001b[43m(\u001b[49m\n\u001b[32m   1171\u001b[39m \u001b[43m    \u001b[49m\u001b[43mparams\u001b[49m\u001b[43m,\u001b[49m\n\u001b[32m   1172\u001b[39m \u001b[43m    \u001b[49m\u001b[43mtrain_dmatrix\u001b[49m\u001b[43m,\u001b[49m\n\u001b[32m   1173\u001b[39m \u001b[43m    \u001b[49m\u001b[38;5;28;43mself\u001b[39;49m\u001b[43m.\u001b[49m\u001b[43mget_num_boosting_rounds\u001b[49m\u001b[43m(\u001b[49m\u001b[43m)\u001b[49m\u001b[43m,\u001b[49m\n\u001b[32m   1174\u001b[39m \u001b[43m    \u001b[49m\u001b[43mevals\u001b[49m\u001b[43m=\u001b[49m\u001b[43mevals\u001b[49m\u001b[43m,\u001b[49m\n\u001b[32m   1175\u001b[39m \u001b[43m    \u001b[49m\u001b[43mearly_stopping_rounds\u001b[49m\u001b[43m=\u001b[49m\u001b[38;5;28;43mself\u001b[39;49m\u001b[43m.\u001b[49m\u001b[43mearly_stopping_rounds\u001b[49m\u001b[43m,\u001b[49m\n\u001b[32m   1176\u001b[39m \u001b[43m    \u001b[49m\u001b[43mevals_result\u001b[49m\u001b[43m=\u001b[49m\u001b[43mevals_result\u001b[49m\u001b[43m,\u001b[49m\n\u001b[32m   1177\u001b[39m \u001b[43m    \u001b[49m\u001b[43mobj\u001b[49m\u001b[43m=\u001b[49m\u001b[43mobj\u001b[49m\u001b[43m,\u001b[49m\n\u001b[32m   1178\u001b[39m \u001b[43m    \u001b[49m\u001b[43mcustom_metric\u001b[49m\u001b[43m=\u001b[49m\u001b[43mmetric\u001b[49m\u001b[43m,\u001b[49m\n\u001b[32m   1179\u001b[39m \u001b[43m    \u001b[49m\u001b[43mverbose_eval\u001b[49m\u001b[43m=\u001b[49m\u001b[43mverbose\u001b[49m\u001b[43m,\u001b[49m\n\u001b[32m   1180\u001b[39m \u001b[43m    \u001b[49m\u001b[43mxgb_model\u001b[49m\u001b[43m=\u001b[49m\u001b[43mmodel\u001b[49m\u001b[43m,\u001b[49m\n\u001b[32m   1181\u001b[39m \u001b[43m    \u001b[49m\u001b[43mcallbacks\u001b[49m\u001b[43m=\u001b[49m\u001b[38;5;28;43mself\u001b[39;49m\u001b[43m.\u001b[49m\u001b[43mcallbacks\u001b[49m\u001b[43m,\u001b[49m\n\u001b[32m   1182\u001b[39m \u001b[43m\u001b[49m\u001b[43m)\u001b[49m\n\u001b[32m   1184\u001b[39m \u001b[38;5;28mself\u001b[39m._set_evaluation_result(evals_result)\n\u001b[32m   1185\u001b[39m \u001b[38;5;28;01mreturn\u001b[39;00m \u001b[38;5;28mself\u001b[39m\n",
      "\u001b[36mFile \u001b[39m\u001b[32m~/mambaforge/envs/507-proj/lib/python3.13/site-packages/xgboost/core.py:726\u001b[39m, in \u001b[36mrequire_keyword_args.<locals>.throw_if.<locals>.inner_f\u001b[39m\u001b[34m(*args, **kwargs)\u001b[39m\n\u001b[32m    724\u001b[39m \u001b[38;5;28;01mfor\u001b[39;00m k, arg \u001b[38;5;129;01min\u001b[39;00m \u001b[38;5;28mzip\u001b[39m(sig.parameters, args):\n\u001b[32m    725\u001b[39m     kwargs[k] = arg\n\u001b[32m--> \u001b[39m\u001b[32m726\u001b[39m \u001b[38;5;28;01mreturn\u001b[39;00m \u001b[43mfunc\u001b[49m\u001b[43m(\u001b[49m\u001b[43m*\u001b[49m\u001b[43m*\u001b[49m\u001b[43mkwargs\u001b[49m\u001b[43m)\u001b[49m\n",
      "\u001b[36mFile \u001b[39m\u001b[32m~/mambaforge/envs/507-proj/lib/python3.13/site-packages/xgboost/training.py:181\u001b[39m, in \u001b[36mtrain\u001b[39m\u001b[34m(params, dtrain, num_boost_round, evals, obj, feval, maximize, early_stopping_rounds, evals_result, verbose_eval, xgb_model, callbacks, custom_metric)\u001b[39m\n\u001b[32m    179\u001b[39m \u001b[38;5;28;01mif\u001b[39;00m cb_container.before_iteration(bst, i, dtrain, evals):\n\u001b[32m    180\u001b[39m     \u001b[38;5;28;01mbreak\u001b[39;00m\n\u001b[32m--> \u001b[39m\u001b[32m181\u001b[39m \u001b[43mbst\u001b[49m\u001b[43m.\u001b[49m\u001b[43mupdate\u001b[49m\u001b[43m(\u001b[49m\u001b[43mdtrain\u001b[49m\u001b[43m,\u001b[49m\u001b[43m \u001b[49m\u001b[43miteration\u001b[49m\u001b[43m=\u001b[49m\u001b[43mi\u001b[49m\u001b[43m,\u001b[49m\u001b[43m \u001b[49m\u001b[43mfobj\u001b[49m\u001b[43m=\u001b[49m\u001b[43mobj\u001b[49m\u001b[43m)\u001b[49m\n\u001b[32m    182\u001b[39m \u001b[38;5;28;01mif\u001b[39;00m cb_container.after_iteration(bst, i, dtrain, evals):\n\u001b[32m    183\u001b[39m     \u001b[38;5;28;01mbreak\u001b[39;00m\n",
      "\u001b[36mFile \u001b[39m\u001b[32m~/mambaforge/envs/507-proj/lib/python3.13/site-packages/xgboost/core.py:2101\u001b[39m, in \u001b[36mBooster.update\u001b[39m\u001b[34m(self, dtrain, iteration, fobj)\u001b[39m\n\u001b[32m   2097\u001b[39m \u001b[38;5;28mself\u001b[39m._assign_dmatrix_features(dtrain)\n\u001b[32m   2099\u001b[39m \u001b[38;5;28;01mif\u001b[39;00m fobj \u001b[38;5;129;01mis\u001b[39;00m \u001b[38;5;28;01mNone\u001b[39;00m:\n\u001b[32m   2100\u001b[39m     _check_call(\n\u001b[32m-> \u001b[39m\u001b[32m2101\u001b[39m         \u001b[43m_LIB\u001b[49m\u001b[43m.\u001b[49m\u001b[43mXGBoosterUpdateOneIter\u001b[49m\u001b[43m(\u001b[49m\n\u001b[32m   2102\u001b[39m \u001b[43m            \u001b[49m\u001b[38;5;28;43mself\u001b[39;49m\u001b[43m.\u001b[49m\u001b[43mhandle\u001b[49m\u001b[43m,\u001b[49m\u001b[43m \u001b[49m\u001b[43mctypes\u001b[49m\u001b[43m.\u001b[49m\u001b[43mc_int\u001b[49m\u001b[43m(\u001b[49m\u001b[43miteration\u001b[49m\u001b[43m)\u001b[49m\u001b[43m,\u001b[49m\u001b[43m \u001b[49m\u001b[43mdtrain\u001b[49m\u001b[43m.\u001b[49m\u001b[43mhandle\u001b[49m\n\u001b[32m   2103\u001b[39m \u001b[43m        \u001b[49m\u001b[43m)\u001b[49m\n\u001b[32m   2104\u001b[39m     )\n\u001b[32m   2105\u001b[39m \u001b[38;5;28;01melse\u001b[39;00m:\n\u001b[32m   2106\u001b[39m     pred = \u001b[38;5;28mself\u001b[39m.predict(dtrain, output_margin=\u001b[38;5;28;01mTrue\u001b[39;00m, training=\u001b[38;5;28;01mTrue\u001b[39;00m)\n",
      "\u001b[31mKeyboardInterrupt\u001b[39m: "
     ]
    }
   ],
   "source": [
    "# Run multitask trial with normalized data\n",
    "jura_multitask_metrics, jura_multitask_hps, jura_multitask_results = xg_boost_trial(\n",
    "    data=jura_data,\n",
    "    normalize=True,\n",
    "    cross_validation_k=5,\n",
    "    multi_task=True,\n",
    "    data_name='jura'\n",
    ")"
   ]
  },
  {
   "cell_type": "code",
   "execution_count": 10,
   "id": "76846b49",
   "metadata": {},
   "outputs": [
    {
     "name": "stderr",
     "output_type": "stream",
     "text": [
      "2025-04-07 21:36:55,120 - INFO - Running multi-task trial\n",
      "100%|██████████| 60/60 [01:15<00:00,  1.27s/it]\n",
      "2025-04-07 21:38:11,039 - INFO - Best metrics: {'MSE': array([101.87416441,  16.58596282, 634.03417488]), 'R2': array([-147.54561828,   -0.32803833,   -0.29833498])}\n",
      "2025-04-07 21:38:11,040 - INFO - Best hyperparameters: {'num_est': 10, 'max_d': 5, 'lr': 0.001}\n"
     ]
    }
   ],
   "source": [
    "# Run multitask trial without normalization\n",
    "jura_multitask_metrics, jura_multitask_hps, jura_multitask_results = xg_boost_trial(\n",
    "    data=jura_data,\n",
    "    normalize=False,\n",
    "    cross_validation_k=5,\n",
    "    multi_task=True,\n",
    "    data_name='jura'\n",
    ")"
   ]
  },
  {
   "cell_type": "code",
   "execution_count": null,
   "id": "05895b6c",
   "metadata": {},
   "outputs": [],
   "source": [
    "# Run single task trial with normalized data\n",
    "jura_single_task_metrics, jura_single_task_hps, jura_single_task_results = xg_boost_trial(\n",
    "    data=jura_data,\n",
    "    normalize=True,\n",
    "    cross_validation_k=5,\n",
    "    multi_task=False,\n",
    "    data_name='jura'\n",
    ")"
   ]
  },
  {
   "cell_type": "code",
   "execution_count": null,
   "id": "9ae32780",
   "metadata": {},
   "outputs": [],
   "source": [
    "# Run single task trial without normalization\n",
    "jura_single_task_metrics, jura_single_task_hps, jura_single_task_results = xg_boost_trial(\n",
    "    data=jura_data,\n",
    "    normalize=False,\n",
    "    cross_validation_k=5,\n",
    "    multi_task=False,\n",
    "    data_name='jura'\n",
    ")"
   ]
  }
 ],
 "metadata": {
  "kernelspec": {
   "display_name": "507-proj",
   "language": "python",
   "name": "python3"
  },
  "language_info": {
   "codemirror_mode": {
    "name": "ipython",
    "version": 3
   },
   "file_extension": ".py",
   "mimetype": "text/x-python",
   "name": "python",
   "nbconvert_exporter": "python",
   "pygments_lexer": "ipython3",
   "version": "3.13.2"
  }
 },
 "nbformat": 4,
 "nbformat_minor": 5
}
