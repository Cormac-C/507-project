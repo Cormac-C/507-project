{
 "cells": [
  {
   "cell_type": "code",
   "execution_count": 24,
   "id": "812fbd33",
   "metadata": {},
   "outputs": [],
   "source": [
    "%reload_ext autoreload\n",
    "%autoreload 2"
   ]
  },
  {
   "cell_type": "code",
   "execution_count": 47,
   "id": "dfe318bb",
   "metadata": {},
   "outputs": [],
   "source": [
    "import os\n",
    "import sys\n",
    "from sklearn.datasets import fetch_openml\n",
    "import xgboost as xgb"
   ]
  },
  {
   "cell_type": "code",
   "execution_count": 26,
   "id": "d2ae1afe",
   "metadata": {},
   "outputs": [],
   "source": [
    "sys.path.append(os.path.join(os.getcwd(), '..'))\n",
    "\n",
    "from utils import *\n",
    "from models import *\n",
    "from experiments import *"
   ]
  },
  {
   "cell_type": "code",
   "execution_count": 27,
   "id": "646d1f3a",
   "metadata": {},
   "outputs": [],
   "source": [
    "logging.basicConfig(level=logging.INFO, format='%(asctime)s - %(levelname)s - %(message)s')"
   ]
  },
  {
   "cell_type": "markdown",
   "id": "868aa028",
   "metadata": {},
   "source": [
    "# Jura Data"
   ]
  },
  {
   "cell_type": "code",
   "execution_count": 28,
   "id": "8a7b43dc",
   "metadata": {},
   "outputs": [],
   "source": [
    "jura_data = fetch_openml(data_id=41554, as_frame=True)"
   ]
  },
  {
   "cell_type": "code",
   "execution_count": 29,
   "id": "e64fa545",
   "metadata": {},
   "outputs": [
    {
     "name": "stderr",
     "output_type": "stream",
     "text": [
      "2025-04-07 22:26:55,115 - INFO - Running multi-task trial\n",
      "100%|██████████| 60/60 [01:06<00:00,  1.11s/it]\n",
      "2025-04-07 22:28:01,967 - INFO - Best metrics: {'MSE': array([  0.33320416,   4.15276729, 165.32544016]), 'R2': array([0.54527372, 0.66797458, 0.69491386])}\n",
      "2025-04-07 22:28:01,967 - INFO - Best hyperparameters: {'num_est': 500, 'max_d': 2, 'lr': 0.1}\n"
     ]
    }
   ],
   "source": [
    "# Run multitask trial with normalized data\n",
    "jura_multitask_metrics, jura_multitask_hps, jura_multitask_results = xg_boost_trial(\n",
    "    data=jura_data,\n",
    "    normalize=True,\n",
    "    cross_validation_k=5,\n",
    "    multi_task=True,\n",
    "    data_name='jura_norm_multitask',\n",
    ")"
   ]
  },
  {
   "cell_type": "code",
   "execution_count": 30,
   "id": "76846b49",
   "metadata": {},
   "outputs": [
    {
     "name": "stderr",
     "output_type": "stream",
     "text": [
      "2025-04-07 22:28:02,079 - INFO - Running multi-task trial\n",
      "100%|██████████| 60/60 [01:10<00:00,  1.18s/it]\n",
      "2025-04-07 22:29:12,716 - INFO - Best metrics: {'MSE': array([  0.32620767,   4.16816959, 166.50717716]), 'R2': array([0.55265462, 0.6666662 , 0.69191521])}\n",
      "2025-04-07 22:29:12,717 - INFO - Best hyperparameters: {'num_est': 500, 'max_d': 2, 'lr': 0.1}\n"
     ]
    }
   ],
   "source": [
    "# Run multitask trial without normalization\n",
    "jura_multitask_metrics, jura_multitask_hps, jura_multitask_results = xg_boost_trial(\n",
    "    data=jura_data,\n",
    "    normalize=False,\n",
    "    cross_validation_k=5,\n",
    "    multi_task=True,\n",
    "    data_name='jura_no_norm_multitask',\n",
    ")"
   ]
  },
  {
   "cell_type": "code",
   "execution_count": 31,
   "id": "05895b6c",
   "metadata": {},
   "outputs": [
    {
     "name": "stderr",
     "output_type": "stream",
     "text": [
      "2025-04-07 22:29:12,823 - INFO - Running single-task trial\n",
      "2025-04-07 22:29:12,823 - INFO - Number of targets: 3\n",
      "2025-04-07 22:29:12,823 - INFO - Running trial for target: Cd\n",
      "100%|██████████| 60/60 [00:28<00:00,  2.08it/s]\n",
      "2025-04-07 22:29:41,712 - INFO - Cd Best metrics: {'MSE': 0.3370419339756432, 'R2': 0.5393191684186964}\n",
      "2025-04-07 22:29:41,712 - INFO - Cd Best hyperparameters: {'num_est': 100, 'max_d': 5, 'lr': 0.1}\n",
      "2025-04-07 22:29:41,713 - INFO - Running trial for target: Co\n",
      "100%|██████████| 60/60 [00:29<00:00,  2.03it/s]\n",
      "2025-04-07 22:30:11,247 - INFO - Co Best metrics: {'MSE': 3.479059245464112, 'R2': 0.7216449397093337}\n",
      "2025-04-07 22:30:11,247 - INFO - Co Best hyperparameters: {'num_est': 100, 'max_d': 5, 'lr': 0.1}\n",
      "2025-04-07 22:30:11,248 - INFO - Running trial for target: Cu\n",
      "100%|██████████| 60/60 [00:29<00:00,  2.05it/s]\n",
      "2025-04-07 22:30:40,511 - INFO - Cu Best metrics: {'MSE': 157.99285982343662, 'R2': 0.7238361751321113}\n",
      "2025-04-07 22:30:40,511 - INFO - Cu Best hyperparameters: {'num_est': 500, 'max_d': 5, 'lr': 0.01}\n",
      "2025-04-07 22:30:40,511 - INFO - Complete best metrics: {'Cd': {'MSE': 0.3370419339756432, 'R2': 0.5393191684186964}, 'Co': {'MSE': 3.479059245464112, 'R2': 0.7216449397093337}, 'Cu': {'MSE': 157.99285982343662, 'R2': 0.7238361751321113}}\n",
      "2025-04-07 22:30:40,511 - INFO - Complete best hyperparameters: {'Cd': {'num_est': 100, 'max_d': 5, 'lr': 0.1}, 'Co': {'num_est': 100, 'max_d': 5, 'lr': 0.1}, 'Cu': {'num_est': 500, 'max_d': 5, 'lr': 0.01}}\n"
     ]
    }
   ],
   "source": [
    "# Run single task trial with normalized data\n",
    "jura_single_task_metrics, jura_single_task_hps, jura_single_task_results = xg_boost_trial(\n",
    "    data=jura_data,\n",
    "    normalize=True,\n",
    "    cross_validation_k=5,\n",
    "    multi_task=False,\n",
    "    data_name='jura_norm_single_task',\n",
    ")"
   ]
  },
  {
   "cell_type": "code",
   "execution_count": 32,
   "id": "9ae32780",
   "metadata": {},
   "outputs": [
    {
     "name": "stderr",
     "output_type": "stream",
     "text": [
      "2025-04-07 22:30:40,632 - INFO - Running single-task trial\n",
      "2025-04-07 22:30:40,632 - INFO - Number of targets: 3\n",
      "2025-04-07 22:30:40,633 - INFO - Running trial for target: Cd\n",
      "100%|██████████| 60/60 [00:29<00:00,  2.02it/s]\n",
      "2025-04-07 22:31:10,367 - INFO - Cd Best metrics: {'MSE': 0.3370419135154396, 'R2': 0.5393191779566326}\n",
      "2025-04-07 22:31:10,367 - INFO - Cd Best hyperparameters: {'num_est': 100, 'max_d': 5, 'lr': 0.1}\n",
      "2025-04-07 22:31:10,367 - INFO - Running trial for target: Co\n",
      "100%|██████████| 60/60 [00:28<00:00,  2.08it/s]\n",
      "2025-04-07 22:31:39,269 - INFO - Co Best metrics: {'MSE': 3.4790594444065968, 'R2': 0.7216449218102079}\n",
      "2025-04-07 22:31:39,270 - INFO - Co Best hyperparameters: {'num_est': 100, 'max_d': 5, 'lr': 0.1}\n",
      "2025-04-07 22:31:39,270 - INFO - Running trial for target: Cu\n",
      "100%|██████████| 60/60 [00:29<00:00,  2.03it/s]\n",
      "2025-04-07 22:32:08,875 - INFO - Cu Best metrics: {'MSE': 158.03837993288073, 'R2': 0.7236878323553718}\n",
      "2025-04-07 22:32:08,875 - INFO - Cu Best hyperparameters: {'num_est': 500, 'max_d': 5, 'lr': 0.01}\n",
      "2025-04-07 22:32:08,875 - INFO - Complete best metrics: {'Cd': {'MSE': 0.3370419135154396, 'R2': 0.5393191779566326}, 'Co': {'MSE': 3.4790594444065968, 'R2': 0.7216449218102079}, 'Cu': {'MSE': 158.03837993288073, 'R2': 0.7236878323553718}}\n",
      "2025-04-07 22:32:08,876 - INFO - Complete best hyperparameters: {'Cd': {'num_est': 100, 'max_d': 5, 'lr': 0.1}, 'Co': {'num_est': 100, 'max_d': 5, 'lr': 0.1}, 'Cu': {'num_est': 500, 'max_d': 5, 'lr': 0.01}}\n"
     ]
    }
   ],
   "source": [
    "# Run single task trial without normalization\n",
    "jura_single_task_metrics, jura_single_task_hps, jura_single_task_results = xg_boost_trial(\n",
    "    data=jura_data,\n",
    "    normalize=False,\n",
    "    cross_validation_k=5,\n",
    "    multi_task=False,\n",
    "    data_name='jura_no_norm_single_task',\n",
    ")"
   ]
  },
  {
   "cell_type": "markdown",
   "id": "e3a768de",
   "metadata": {},
   "source": [
    "# ENB Data"
   ]
  },
  {
   "cell_type": "code",
   "execution_count": 33,
   "id": "14b3b8b5",
   "metadata": {},
   "outputs": [],
   "source": [
    "enb_data = fetch_openml(data_id=41553, as_frame=True)"
   ]
  },
  {
   "cell_type": "code",
   "execution_count": 34,
   "id": "ffba2db5",
   "metadata": {},
   "outputs": [
    {
     "name": "stderr",
     "output_type": "stream",
     "text": [
      "2025-04-07 22:32:09,083 - INFO - Running multi-task trial\n",
      "100%|██████████| 60/60 [00:37<00:00,  1.60it/s]\n",
      "2025-04-07 22:32:46,524 - INFO - Best metrics: {'MSE': array([0.11603777, 0.41901865]), 'R2': array([0.9988474 , 0.99534395])}\n",
      "2025-04-07 22:32:46,524 - INFO - Best hyperparameters: {'num_est': 1000, 'max_d': 5, 'lr': 0.1}\n"
     ]
    }
   ],
   "source": [
    "# Run multitask trial with normalized data\n",
    "enb_multitask_metrics, enb_multitask_hps, enb_multitask_results = xg_boost_trial(\n",
    "    data=enb_data,\n",
    "    normalize=True,\n",
    "    cross_validation_k=5,\n",
    "    multi_task=True,\n",
    "    data_name='enb_norm_multitask',\n",
    ")"
   ]
  },
  {
   "cell_type": "code",
   "execution_count": 35,
   "id": "1023f952",
   "metadata": {},
   "outputs": [
    {
     "name": "stderr",
     "output_type": "stream",
     "text": [
      "2025-04-07 22:32:46,625 - INFO - Running multi-task trial\n",
      "100%|██████████| 60/60 [00:37<00:00,  1.62it/s]\n",
      "2025-04-07 22:33:23,658 - INFO - Best metrics: {'MSE': array([0.12038146, 0.40490305]), 'R2': array([0.99879891, 0.99550756])}\n",
      "2025-04-07 22:33:23,659 - INFO - Best hyperparameters: {'num_est': 1000, 'max_d': 5, 'lr': 0.1}\n"
     ]
    }
   ],
   "source": [
    "# Run multitask trial without normalization\n",
    "enb_multitask_metrics, enb_multitask_hps, enb_multitask_results = xg_boost_trial(\n",
    "    data=enb_data,\n",
    "    normalize=False,\n",
    "    cross_validation_k=5,\n",
    "    multi_task=True,\n",
    "    data_name='enb_no_norm_multitask',\n",
    ")"
   ]
  },
  {
   "cell_type": "code",
   "execution_count": 36,
   "id": "9a2780cd",
   "metadata": {},
   "outputs": [
    {
     "name": "stderr",
     "output_type": "stream",
     "text": [
      "2025-04-07 22:33:23,738 - INFO - Running single-task trial\n",
      "2025-04-07 22:33:23,739 - INFO - Number of targets: 2\n",
      "2025-04-07 22:33:23,739 - INFO - Running trial for target: Y1\n",
      "100%|██████████| 60/60 [00:22<00:00,  2.71it/s]\n",
      "2025-04-07 22:33:45,919 - INFO - Y1 Best metrics: {'MSE': 0.12751606498043105, 'R2': 0.9987265348183986}\n",
      "2025-04-07 22:33:45,919 - INFO - Y1 Best hyperparameters: {'num_est': 500, 'max_d': 5, 'lr': 0.1}\n",
      "2025-04-07 22:33:45,919 - INFO - Running trial for target: Y2\n",
      "100%|██████████| 60/60 [00:22<00:00,  2.66it/s]\n",
      "2025-04-07 22:34:08,451 - INFO - Y2 Best metrics: {'MSE': 0.425248864466962, 'R2': 0.9952863806223986}\n",
      "2025-04-07 22:34:08,452 - INFO - Y2 Best hyperparameters: {'num_est': 1000, 'max_d': 5, 'lr': 0.1}\n",
      "2025-04-07 22:34:08,452 - INFO - Complete best metrics: {'Y1': {'MSE': 0.12751606498043105, 'R2': 0.9987265348183986}, 'Y2': {'MSE': 0.425248864466962, 'R2': 0.9952863806223986}}\n",
      "2025-04-07 22:34:08,452 - INFO - Complete best hyperparameters: {'Y1': {'num_est': 500, 'max_d': 5, 'lr': 0.1}, 'Y2': {'num_est': 1000, 'max_d': 5, 'lr': 0.1}}\n"
     ]
    }
   ],
   "source": [
    "# Run single task trial with normalized data\n",
    "enb_single_task_metrics, enb_single_task_hps, enb_single_task_results = xg_boost_trial(\n",
    "    data=enb_data,\n",
    "    normalize=True,\n",
    "    cross_validation_k=5,\n",
    "    multi_task=False,\n",
    "    data_name='enb_norm_single_task',\n",
    ")"
   ]
  },
  {
   "cell_type": "code",
   "execution_count": 37,
   "id": "a4c87c1f",
   "metadata": {},
   "outputs": [
    {
     "name": "stderr",
     "output_type": "stream",
     "text": [
      "2025-04-07 22:34:08,574 - INFO - Running single-task trial\n",
      "2025-04-07 22:34:08,575 - INFO - Number of targets: 2\n",
      "2025-04-07 22:34:08,575 - INFO - Running trial for target: Y1\n",
      "100%|██████████| 60/60 [00:21<00:00,  2.81it/s]\n",
      "2025-04-07 22:34:29,947 - INFO - Y1 Best metrics: {'MSE': 0.1257138159432192, 'R2': 0.9987463920422164}\n",
      "2025-04-07 22:34:29,947 - INFO - Y1 Best hyperparameters: {'num_est': 500, 'max_d': 5, 'lr': 0.1}\n",
      "2025-04-07 22:34:29,947 - INFO - Running trial for target: Y2\n",
      "100%|██████████| 60/60 [00:22<00:00,  2.70it/s]\n",
      "2025-04-07 22:34:52,145 - INFO - Y2 Best metrics: {'MSE': 0.4240814092618125, 'R2': 0.9952990745028412}\n",
      "2025-04-07 22:34:52,145 - INFO - Y2 Best hyperparameters: {'num_est': 1000, 'max_d': 5, 'lr': 0.1}\n",
      "2025-04-07 22:34:52,146 - INFO - Complete best metrics: {'Y1': {'MSE': 0.1257138159432192, 'R2': 0.9987463920422164}, 'Y2': {'MSE': 0.4240814092618125, 'R2': 0.9952990745028412}}\n",
      "2025-04-07 22:34:52,146 - INFO - Complete best hyperparameters: {'Y1': {'num_est': 500, 'max_d': 5, 'lr': 0.1}, 'Y2': {'num_est': 1000, 'max_d': 5, 'lr': 0.1}}\n"
     ]
    }
   ],
   "source": [
    "# Run single task trial without normalization\n",
    "enb_single_task_metrics, enb_single_task_hps, enb_single_task_results = xg_boost_trial(\n",
    "    data=enb_data,\n",
    "    normalize=False,\n",
    "    cross_validation_k=5,\n",
    "    multi_task=False,\n",
    "    data_name='enb_no_norm_single_task',\n",
    ")"
   ]
  },
  {
   "cell_type": "markdown",
   "id": "120d5dd3",
   "metadata": {},
   "source": [
    "# ATP1D Data"
   ]
  },
  {
   "cell_type": "code",
   "execution_count": 57,
   "id": "c0bff49a",
   "metadata": {},
   "outputs": [],
   "source": [
    "atp1d_data = fetch_openml(data_id=41550, as_frame=True)"
   ]
  },
  {
   "cell_type": "code",
   "execution_count": 60,
   "id": "bd8eda1a",
   "metadata": {},
   "outputs": [
    {
     "name": "stdout",
     "output_type": "stream",
     "text": [
      "Zero variance columns:\n",
      "0\n"
     ]
    }
   ],
   "source": [
    "# Drop zero variance columns\n",
    "atp1d_data.data = atp1d_data.data.loc[:, atp1d_data.data.nunique() > 1]\n",
    "\n",
    "print(\"Zero variance columns:\")\n",
    "print((atp1d_data.data.nunique() <= 1).sum())"
   ]
  },
  {
   "cell_type": "code",
   "execution_count": 61,
   "id": "fbada548",
   "metadata": {},
   "outputs": [
    {
     "name": "stderr",
     "output_type": "stream",
     "text": [
      "2025-04-07 22:57:34,639 - INFO - Running multi-task trial\n",
      "100%|██████████| 60/60 [28:54<00:00, 28.91s/it] \n",
      "2025-04-07 23:26:29,125 - INFO - Best metrics: {'MSE': array([1714.0709168 , 8982.45033543, 5686.74092179, 1928.13463978,\n",
      "       2070.71389307, 2088.24103863]), 'R2': array([0.81243137, 0.85159952, 0.82226702, 0.92350925, 0.84338604,\n",
      "       0.92492827])}\n",
      "2025-04-07 23:26:29,125 - INFO - Best hyperparameters: {'num_est': 1000, 'max_d': 5, 'lr': 0.01}\n"
     ]
    }
   ],
   "source": [
    "# Run multitask trial with normalized data\n",
    "atp1d_multitask_metrics, atp1d_multitask_hps, atp1d_multitask_results = xg_boost_trial(\n",
    "    data=atp1d_data,\n",
    "    normalize=True,\n",
    "    cross_validation_k=5,\n",
    "    multi_task=True,\n",
    "    data_name='atp1d_norm_multitask',\n",
    ")"
   ]
  },
  {
   "cell_type": "code",
   "execution_count": 62,
   "id": "9eaac40b",
   "metadata": {},
   "outputs": [
    {
     "name": "stderr",
     "output_type": "stream",
     "text": [
      "2025-04-07 23:26:29,293 - INFO - Running multi-task trial\n",
      "100%|██████████| 60/60 [27:15<00:00, 27.26s/it] \n",
      "2025-04-07 23:53:44,863 - INFO - Best metrics: {'MSE': array([1744.2024, 9055.686 , 5727.96  , 1949.0875, 2120.0872, 2108.7485],\n",
      "      dtype=float32), 'R2': array([0.8089906 , 0.8500618 , 0.8209751 , 0.9227538 , 0.83958274,\n",
      "       0.92420846], dtype=float32)}\n",
      "2025-04-07 23:53:44,864 - INFO - Best hyperparameters: {'num_est': 1000, 'max_d': 5, 'lr': 0.01}\n"
     ]
    }
   ],
   "source": [
    "# Run multitask trial without normalization\n",
    "atp1d_multitask_metrics, atp1d_multitask_hps, atp1d_multitask_results = xg_boost_trial(\n",
    "    data=atp1d_data,\n",
    "    normalize=False,\n",
    "    cross_validation_k=5,\n",
    "    multi_task=True,\n",
    "    data_name='atp1d_no_norm_multitask',\n",
    ")"
   ]
  },
  {
   "cell_type": "code",
   "execution_count": 63,
   "id": "f5bad070",
   "metadata": {},
   "outputs": [
    {
     "name": "stderr",
     "output_type": "stream",
     "text": [
      "2025-04-07 23:53:45,013 - INFO - Running single-task trial\n",
      "2025-04-07 23:53:45,013 - INFO - Number of targets: 6\n",
      "2025-04-07 23:53:45,013 - INFO - Running trial for target: LBL_ALLminpA_fut_001\n",
      "100%|██████████| 60/60 [02:57<00:00,  2.96s/it]\n",
      "2025-04-07 23:56:42,802 - INFO - LBL_ALLminpA_fut_001 Best metrics: {'MSE': 2031.561790870767, 'R2': 0.769280012447416}\n",
      "2025-04-07 23:56:42,803 - INFO - LBL_ALLminpA_fut_001 Best hyperparameters: {'num_est': 50, 'max_d': 2, 'lr': 0.1}\n",
      "2025-04-07 23:56:42,803 - INFO - Running trial for target: LBL_ALLminp0_fut_001\n",
      "100%|██████████| 60/60 [03:01<00:00,  3.03s/it]\n",
      "2025-04-07 23:59:44,498 - INFO - LBL_ALLminp0_fut_001 Best metrics: {'MSE': 10056.579738463191, 'R2': 0.8318105604942831}\n",
      "2025-04-07 23:59:44,498 - INFO - LBL_ALLminp0_fut_001 Best hyperparameters: {'num_est': 500, 'max_d': 1, 'lr': 0.1}\n",
      "2025-04-07 23:59:44,499 - INFO - Running trial for target: LBL_aDLminpA_fut_001\n",
      "100%|██████████| 60/60 [03:06<00:00,  3.10s/it]\n",
      "2025-04-08 00:02:50,647 - INFO - LBL_aDLminpA_fut_001 Best metrics: {'MSE': 6151.690157043276, 'R2': 0.8068843213487213}\n",
      "2025-04-08 00:02:50,648 - INFO - LBL_aDLminpA_fut_001 Best hyperparameters: {'num_est': 1000, 'max_d': 1, 'lr': 0.01}\n",
      "2025-04-08 00:02:50,648 - INFO - Running trial for target: LBL_aCOminpA_fut_001\n",
      "100%|██████████| 60/60 [02:53<00:00,  2.89s/it]\n",
      "2025-04-08 00:05:44,026 - INFO - LBL_aCOminpA_fut_001 Best metrics: {'MSE': 1568.4158827034184, 'R2': 0.9391036150284752}\n",
      "2025-04-08 00:05:44,026 - INFO - LBL_aCOminpA_fut_001 Best hyperparameters: {'num_est': 500, 'max_d': 3, 'lr': 0.1}\n",
      "2025-04-08 00:05:44,026 - INFO - Running trial for target: LBL_aFLminpA_fut_001\n",
      "100%|██████████| 60/60 [02:47<00:00,  2.80s/it]\n",
      "2025-04-08 00:08:31,863 - INFO - LBL_aFLminpA_fut_001 Best metrics: {'MSE': 2471.7424905612543, 'R2': 0.811134085059997}\n",
      "2025-04-08 00:08:31,864 - INFO - LBL_aFLminpA_fut_001 Best hyperparameters: {'num_est': 500, 'max_d': 3, 'lr': 0.01}\n",
      "2025-04-08 00:08:31,864 - INFO - Running trial for target: LBL_aUAminpA_fut_001\n",
      "100%|██████████| 60/60 [02:38<00:00,  2.64s/it]\n",
      "2025-04-08 00:11:10,414 - INFO - LBL_aUAminpA_fut_001 Best metrics: {'MSE': 1574.615033981434, 'R2': 0.9442062853519279}\n",
      "2025-04-08 00:11:10,414 - INFO - LBL_aUAminpA_fut_001 Best hyperparameters: {'num_est': 1000, 'max_d': 3, 'lr': 0.1}\n",
      "2025-04-08 00:11:10,414 - INFO - Complete best metrics: {'LBL_ALLminpA_fut_001': {'MSE': 2031.561790870767, 'R2': 0.769280012447416}, 'LBL_ALLminp0_fut_001': {'MSE': 10056.579738463191, 'R2': 0.8318105604942831}, 'LBL_aDLminpA_fut_001': {'MSE': 6151.690157043276, 'R2': 0.8068843213487213}, 'LBL_aCOminpA_fut_001': {'MSE': 1568.4158827034184, 'R2': 0.9391036150284752}, 'LBL_aFLminpA_fut_001': {'MSE': 2471.7424905612543, 'R2': 0.811134085059997}, 'LBL_aUAminpA_fut_001': {'MSE': 1574.615033981434, 'R2': 0.9442062853519279}}\n",
      "2025-04-08 00:11:10,414 - INFO - Complete best hyperparameters: {'LBL_ALLminpA_fut_001': {'num_est': 50, 'max_d': 2, 'lr': 0.1}, 'LBL_ALLminp0_fut_001': {'num_est': 500, 'max_d': 1, 'lr': 0.1}, 'LBL_aDLminpA_fut_001': {'num_est': 1000, 'max_d': 1, 'lr': 0.01}, 'LBL_aCOminpA_fut_001': {'num_est': 500, 'max_d': 3, 'lr': 0.1}, 'LBL_aFLminpA_fut_001': {'num_est': 500, 'max_d': 3, 'lr': 0.01}, 'LBL_aUAminpA_fut_001': {'num_est': 1000, 'max_d': 3, 'lr': 0.1}}\n"
     ]
    }
   ],
   "source": [
    "# Run single task trial with normalized data\n",
    "atp1d_single_task_metrics, atp1d_single_task_hps, atp1d_single_task_results = xg_boost_trial(\n",
    "    data=atp1d_data,\n",
    "    normalize=True,\n",
    "    cross_validation_k=5,\n",
    "    multi_task=False,\n",
    "    data_name='atp1d_norm_single_task',\n",
    ")"
   ]
  },
  {
   "cell_type": "code",
   "execution_count": 64,
   "id": "622862e9",
   "metadata": {},
   "outputs": [
    {
     "name": "stderr",
     "output_type": "stream",
     "text": [
      "2025-04-08 00:11:10,541 - INFO - Running single-task trial\n",
      "2025-04-08 00:11:10,542 - INFO - Number of targets: 6\n",
      "2025-04-08 00:11:10,542 - INFO - Running trial for target: LBL_ALLminpA_fut_001\n",
      "100%|██████████| 60/60 [02:46<00:00,  2.77s/it]\n",
      "2025-04-08 00:13:56,843 - INFO - LBL_ALLminpA_fut_001 Best metrics: {'MSE': 2031.5616455078125, 'R2': 0.7692800164222717}\n",
      "2025-04-08 00:13:56,843 - INFO - LBL_ALLminpA_fut_001 Best hyperparameters: {'num_est': 50, 'max_d': 2, 'lr': 0.1}\n",
      "2025-04-08 00:13:56,844 - INFO - Running trial for target: LBL_ALLminp0_fut_001\n",
      "100%|██████████| 60/60 [02:49<00:00,  2.82s/it]\n",
      "2025-04-08 00:16:45,927 - INFO - LBL_ALLminp0_fut_001 Best metrics: {'MSE': 10056.57802734375, 'R2': 0.8318105697631836}\n",
      "2025-04-08 00:16:45,927 - INFO - LBL_ALLminp0_fut_001 Best hyperparameters: {'num_est': 500, 'max_d': 1, 'lr': 0.1}\n",
      "2025-04-08 00:16:45,928 - INFO - Running trial for target: LBL_aDLminpA_fut_001\n",
      "100%|██████████| 60/60 [02:51<00:00,  2.86s/it]\n",
      "2025-04-08 00:19:37,460 - INFO - LBL_aDLminpA_fut_001 Best metrics: {'MSE': 6151.689599609375, 'R2': 0.8068843364715577}\n",
      "2025-04-08 00:19:37,460 - INFO - LBL_aDLminpA_fut_001 Best hyperparameters: {'num_est': 1000, 'max_d': 1, 'lr': 0.01}\n",
      "2025-04-08 00:19:37,460 - INFO - Running trial for target: LBL_aCOminpA_fut_001\n",
      "100%|██████████| 60/60 [02:43<00:00,  2.73s/it]\n",
      "2025-04-08 00:22:21,066 - INFO - LBL_aCOminpA_fut_001 Best metrics: {'MSE': 1569.6568359375, 'R2': 0.9390464186668396}\n",
      "2025-04-08 00:22:21,066 - INFO - LBL_aCOminpA_fut_001 Best hyperparameters: {'num_est': 500, 'max_d': 3, 'lr': 0.1}\n",
      "2025-04-08 00:22:21,066 - INFO - Running trial for target: LBL_aFLminpA_fut_001\n",
      "100%|██████████| 60/60 [02:47<00:00,  2.79s/it]\n",
      "2025-04-08 00:25:08,463 - INFO - LBL_aFLminpA_fut_001 Best metrics: {'MSE': 2471.742529296875, 'R2': 0.8111340999603271}\n",
      "2025-04-08 00:25:08,463 - INFO - LBL_aFLminpA_fut_001 Best hyperparameters: {'num_est': 500, 'max_d': 3, 'lr': 0.01}\n",
      "2025-04-08 00:25:08,463 - INFO - Running trial for target: LBL_aUAminpA_fut_001\n",
      "100%|██████████| 60/60 [02:37<00:00,  2.63s/it]\n",
      "2025-04-08 00:27:46,035 - INFO - LBL_aUAminpA_fut_001 Best metrics: {'MSE': 1575.127685546875, 'R2': 0.9441877007484436}\n",
      "2025-04-08 00:27:46,035 - INFO - LBL_aUAminpA_fut_001 Best hyperparameters: {'num_est': 1000, 'max_d': 3, 'lr': 0.1}\n",
      "2025-04-08 00:27:46,035 - INFO - Complete best metrics: {'LBL_ALLminpA_fut_001': {'MSE': 2031.5616455078125, 'R2': 0.7692800164222717}, 'LBL_ALLminp0_fut_001': {'MSE': 10056.57802734375, 'R2': 0.8318105697631836}, 'LBL_aDLminpA_fut_001': {'MSE': 6151.689599609375, 'R2': 0.8068843364715577}, 'LBL_aCOminpA_fut_001': {'MSE': 1569.6568359375, 'R2': 0.9390464186668396}, 'LBL_aFLminpA_fut_001': {'MSE': 2471.742529296875, 'R2': 0.8111340999603271}, 'LBL_aUAminpA_fut_001': {'MSE': 1575.127685546875, 'R2': 0.9441877007484436}}\n",
      "2025-04-08 00:27:46,035 - INFO - Complete best hyperparameters: {'LBL_ALLminpA_fut_001': {'num_est': 50, 'max_d': 2, 'lr': 0.1}, 'LBL_ALLminp0_fut_001': {'num_est': 500, 'max_d': 1, 'lr': 0.1}, 'LBL_aDLminpA_fut_001': {'num_est': 1000, 'max_d': 1, 'lr': 0.01}, 'LBL_aCOminpA_fut_001': {'num_est': 500, 'max_d': 3, 'lr': 0.1}, 'LBL_aFLminpA_fut_001': {'num_est': 500, 'max_d': 3, 'lr': 0.01}, 'LBL_aUAminpA_fut_001': {'num_est': 1000, 'max_d': 3, 'lr': 0.1}}\n"
     ]
    }
   ],
   "source": [
    "# Run single task trial without normalization\n",
    "atp1d_single_task_metrics, atp1d_single_task_hps, atp1d_single_task_results = xg_boost_trial(\n",
    "    data=atp1d_data,\n",
    "    normalize=False,\n",
    "    cross_validation_k=5,\n",
    "    multi_task=False,\n",
    "    data_name='atp1d_no_norm_single_task',\n",
    ")"
   ]
  }
 ],
 "metadata": {
  "kernelspec": {
   "display_name": "507-proj",
   "language": "python",
   "name": "python3"
  },
  "language_info": {
   "codemirror_mode": {
    "name": "ipython",
    "version": 3
   },
   "file_extension": ".py",
   "mimetype": "text/x-python",
   "name": "python",
   "nbconvert_exporter": "python",
   "pygments_lexer": "ipython3",
   "version": "3.13.2"
  }
 },
 "nbformat": 4,
 "nbformat_minor": 5
}
