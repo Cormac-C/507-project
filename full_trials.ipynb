{
 "cells": [
  {
   "cell_type": "code",
   "execution_count": 67,
   "id": "812fbd33",
   "metadata": {},
   "outputs": [],
   "source": [
    "%reload_ext autoreload\n",
    "%autoreload 2"
   ]
  },
  {
   "cell_type": "code",
   "execution_count": 68,
   "id": "dfe318bb",
   "metadata": {},
   "outputs": [],
   "source": [
    "import os\n",
    "import sys\n",
    "from sklearn.datasets import fetch_openml"
   ]
  },
  {
   "cell_type": "code",
   "execution_count": 69,
   "id": "d2ae1afe",
   "metadata": {},
   "outputs": [],
   "source": [
    "sys.path.append(os.path.join(os.getcwd(), '..'))\n",
    "\n",
    "from utils import *\n",
    "from models import *\n",
    "from experiments import *"
   ]
  },
  {
   "cell_type": "code",
   "execution_count": 70,
   "id": "646d1f3a",
   "metadata": {},
   "outputs": [],
   "source": [
    "logging.basicConfig(level=logging.INFO, format='%(asctime)s - %(levelname)s - %(message)s')"
   ]
  },
  {
   "cell_type": "markdown",
   "id": "868aa028",
   "metadata": {},
   "source": [
    "# Jura Data"
   ]
  },
  {
   "cell_type": "code",
   "execution_count": 71,
   "id": "8a7b43dc",
   "metadata": {},
   "outputs": [],
   "source": [
    "jura_data = fetch_openml(data_id=41554, as_frame=True)"
   ]
  },
  {
   "cell_type": "code",
   "execution_count": 72,
   "id": "e64fa545",
   "metadata": {},
   "outputs": [
    {
     "name": "stderr",
     "output_type": "stream",
     "text": [
      "2025-04-08 12:19:53,970 - INFO - Running multi-task trial\n",
      "100%|██████████| 72/72 [02:39<00:00,  2.22s/it]\n",
      "2025-04-08 12:22:33,826 - INFO - Best metrics: {'MSE': array([  0.33320416,   4.15276729, 165.32544016]), 'R2': array([0.54527372, 0.66797458, 0.69491386])}\n",
      "2025-04-08 12:22:33,827 - INFO - Best hyperparameters: {'num_est': 500, 'max_d': 2, 'lr': 0.1}\n"
     ]
    }
   ],
   "source": [
    "# Run multitask trial with normalized data\n",
    "jura_multitask_metrics, jura_multitask_hps, jura_multitask_results = xg_boost_trial(\n",
    "    data=jura_data,\n",
    "    normalize=True,\n",
    "    cross_validation_k=5,\n",
    "    multi_task=True,\n",
    "    data_name='jura_norm_multitask',\n",
    ")"
   ]
  },
  {
   "cell_type": "code",
   "execution_count": 73,
   "id": "76846b49",
   "metadata": {},
   "outputs": [
    {
     "name": "stderr",
     "output_type": "stream",
     "text": [
      "2025-04-08 12:22:34,000 - INFO - Running multi-task trial\n",
      "100%|██████████| 72/72 [02:37<00:00,  2.19s/it]\n",
      "2025-04-08 12:25:11,336 - INFO - Best metrics: {'MSE': array([  0.32620767,   4.16816959, 166.50717716]), 'R2': array([0.55265462, 0.6666662 , 0.69191521])}\n",
      "2025-04-08 12:25:11,336 - INFO - Best hyperparameters: {'num_est': 500, 'max_d': 2, 'lr': 0.1}\n"
     ]
    }
   ],
   "source": [
    "# Run multitask trial without normalization\n",
    "jura_multitask_metrics, jura_multitask_hps, jura_multitask_results = xg_boost_trial(\n",
    "    data=jura_data,\n",
    "    normalize=False,\n",
    "    cross_validation_k=5,\n",
    "    multi_task=True,\n",
    "    data_name='jura_no_norm_multitask',\n",
    ")"
   ]
  },
  {
   "cell_type": "code",
   "execution_count": 74,
   "id": "05895b6c",
   "metadata": {},
   "outputs": [
    {
     "name": "stderr",
     "output_type": "stream",
     "text": [
      "2025-04-08 12:25:11,491 - INFO - Running single-task trial\n",
      "2025-04-08 12:25:11,491 - INFO - Number of targets: 3\n",
      "2025-04-08 12:25:11,492 - INFO - Running trial for target: Cd\n",
      "100%|██████████| 72/72 [01:14<00:00,  1.03s/it]\n",
      "2025-04-08 12:26:25,967 - INFO - Cd Best metrics: {'MSE': 0.3370419339756432, 'R2': 0.5393191684186964}\n",
      "2025-04-08 12:26:25,967 - INFO - Cd Best hyperparameters: {'num_est': 100, 'max_d': 5, 'lr': 0.1}\n",
      "2025-04-08 12:26:25,968 - INFO - Running trial for target: Co\n",
      "100%|██████████| 72/72 [01:12<00:00,  1.01s/it]\n",
      "2025-04-08 12:27:38,867 - INFO - Co Best metrics: {'MSE': 3.479059245464112, 'R2': 0.7216449397093337}\n",
      "2025-04-08 12:27:38,868 - INFO - Co Best hyperparameters: {'num_est': 100, 'max_d': 5, 'lr': 0.1}\n",
      "2025-04-08 12:27:38,868 - INFO - Running trial for target: Cu\n",
      "100%|██████████| 72/72 [01:12<00:00,  1.01s/it]\n",
      "2025-04-08 12:28:51,335 - INFO - Cu Best metrics: {'MSE': 157.99285982343662, 'R2': 0.7238361751321113}\n",
      "2025-04-08 12:28:51,336 - INFO - Cu Best hyperparameters: {'num_est': 500, 'max_d': 5, 'lr': 0.01}\n",
      "2025-04-08 12:28:51,336 - INFO - Complete best metrics: {'Cd': {'MSE': 0.3370419339756432, 'R2': 0.5393191684186964}, 'Co': {'MSE': 3.479059245464112, 'R2': 0.7216449397093337}, 'Cu': {'MSE': 157.99285982343662, 'R2': 0.7238361751321113}}\n",
      "2025-04-08 12:28:51,336 - INFO - Complete best hyperparameters: {'Cd': {'num_est': 100, 'max_d': 5, 'lr': 0.1}, 'Co': {'num_est': 100, 'max_d': 5, 'lr': 0.1}, 'Cu': {'num_est': 500, 'max_d': 5, 'lr': 0.01}}\n"
     ]
    }
   ],
   "source": [
    "# Run single task trial with normalized data\n",
    "jura_single_task_metrics, jura_single_task_hps, jura_single_task_results = xg_boost_trial(\n",
    "    data=jura_data,\n",
    "    normalize=True,\n",
    "    cross_validation_k=5,\n",
    "    multi_task=False,\n",
    "    data_name='jura_norm_single_task',\n",
    ")"
   ]
  },
  {
   "cell_type": "code",
   "execution_count": 75,
   "id": "9ae32780",
   "metadata": {},
   "outputs": [
    {
     "name": "stderr",
     "output_type": "stream",
     "text": [
      "2025-04-08 12:28:51,608 - INFO - Running single-task trial\n",
      "2025-04-08 12:28:51,609 - INFO - Number of targets: 3\n",
      "2025-04-08 12:28:51,609 - INFO - Running trial for target: Cd\n",
      "100%|██████████| 72/72 [01:08<00:00,  1.04it/s]\n",
      "2025-04-08 12:30:00,512 - INFO - Cd Best metrics: {'MSE': 0.3370419135154396, 'R2': 0.5393191779566326}\n",
      "2025-04-08 12:30:00,512 - INFO - Cd Best hyperparameters: {'num_est': 100, 'max_d': 5, 'lr': 0.1}\n",
      "2025-04-08 12:30:00,512 - INFO - Running trial for target: Co\n",
      "100%|██████████| 72/72 [01:11<00:00,  1.00it/s]\n",
      "2025-04-08 12:31:12,441 - INFO - Co Best metrics: {'MSE': 3.4790594444065968, 'R2': 0.7216449218102079}\n",
      "2025-04-08 12:31:12,442 - INFO - Co Best hyperparameters: {'num_est': 100, 'max_d': 5, 'lr': 0.1}\n",
      "2025-04-08 12:31:12,442 - INFO - Running trial for target: Cu\n",
      "100%|██████████| 72/72 [01:15<00:00,  1.05s/it]\n",
      "2025-04-08 12:32:27,836 - INFO - Cu Best metrics: {'MSE': 158.03837993288073, 'R2': 0.7236878323553718}\n",
      "2025-04-08 12:32:27,836 - INFO - Cu Best hyperparameters: {'num_est': 500, 'max_d': 5, 'lr': 0.01}\n",
      "2025-04-08 12:32:27,837 - INFO - Complete best metrics: {'Cd': {'MSE': 0.3370419135154396, 'R2': 0.5393191779566326}, 'Co': {'MSE': 3.4790594444065968, 'R2': 0.7216449218102079}, 'Cu': {'MSE': 158.03837993288073, 'R2': 0.7236878323553718}}\n",
      "2025-04-08 12:32:27,837 - INFO - Complete best hyperparameters: {'Cd': {'num_est': 100, 'max_d': 5, 'lr': 0.1}, 'Co': {'num_est': 100, 'max_d': 5, 'lr': 0.1}, 'Cu': {'num_est': 500, 'max_d': 5, 'lr': 0.01}}\n"
     ]
    }
   ],
   "source": [
    "# Run single task trial without normalization\n",
    "jura_single_task_metrics, jura_single_task_hps, jura_single_task_results = xg_boost_trial(\n",
    "    data=jura_data,\n",
    "    normalize=False,\n",
    "    cross_validation_k=5,\n",
    "    multi_task=False,\n",
    "    data_name='jura_no_norm_single_task',\n",
    ")"
   ]
  },
  {
   "cell_type": "markdown",
   "id": "e3a768de",
   "metadata": {},
   "source": [
    "# ENB Data"
   ]
  },
  {
   "cell_type": "code",
   "execution_count": 76,
   "id": "14b3b8b5",
   "metadata": {},
   "outputs": [],
   "source": [
    "enb_data = fetch_openml(data_id=41553, as_frame=True)"
   ]
  },
  {
   "cell_type": "code",
   "execution_count": 77,
   "id": "ffba2db5",
   "metadata": {},
   "outputs": [
    {
     "name": "stderr",
     "output_type": "stream",
     "text": [
      "2025-04-08 12:32:28,062 - INFO - Running multi-task trial\n",
      "100%|██████████| 72/72 [01:36<00:00,  1.34s/it]\n",
      "2025-04-08 12:34:04,491 - INFO - Best metrics: {'MSE': array([0.12399657, 0.37495954]), 'R2': array([0.99876613, 0.99583505])}\n",
      "2025-04-08 12:34:04,491 - INFO - Best hyperparameters: {'num_est': 3000, 'max_d': 5, 'lr': 0.1}\n"
     ]
    }
   ],
   "source": [
    "# Run multitask trial with normalized data\n",
    "enb_multitask_metrics, enb_multitask_hps, enb_multitask_results = xg_boost_trial(\n",
    "    data=enb_data,\n",
    "    normalize=True,\n",
    "    cross_validation_k=5,\n",
    "    multi_task=True,\n",
    "    data_name='enb_norm_multitask',\n",
    ")"
   ]
  },
  {
   "cell_type": "code",
   "execution_count": 78,
   "id": "1023f952",
   "metadata": {},
   "outputs": [
    {
     "name": "stderr",
     "output_type": "stream",
     "text": [
      "2025-04-08 12:34:04,614 - INFO - Running multi-task trial\n",
      "100%|██████████| 72/72 [01:34<00:00,  1.32s/it]\n",
      "2025-04-08 12:35:39,418 - INFO - Best metrics: {'MSE': array([0.12796389, 0.36599412]), 'R2': array([0.99872237, 0.99593835])}\n",
      "2025-04-08 12:35:39,418 - INFO - Best hyperparameters: {'num_est': 3000, 'max_d': 5, 'lr': 0.1}\n"
     ]
    }
   ],
   "source": [
    "# Run multitask trial without normalization\n",
    "enb_multitask_metrics, enb_multitask_hps, enb_multitask_results = xg_boost_trial(\n",
    "    data=enb_data,\n",
    "    normalize=False,\n",
    "    cross_validation_k=5,\n",
    "    multi_task=True,\n",
    "    data_name='enb_no_norm_multitask',\n",
    ")"
   ]
  },
  {
   "cell_type": "code",
   "execution_count": 79,
   "id": "9a2780cd",
   "metadata": {},
   "outputs": [
    {
     "name": "stderr",
     "output_type": "stream",
     "text": [
      "2025-04-08 12:35:39,553 - INFO - Running single-task trial\n",
      "2025-04-08 12:35:39,553 - INFO - Number of targets: 2\n",
      "2025-04-08 12:35:39,554 - INFO - Running trial for target: Y1\n",
      "100%|██████████| 72/72 [00:55<00:00,  1.30it/s]\n",
      "2025-04-08 12:36:34,778 - INFO - Y1 Best metrics: {'MSE': 0.12793584005269937, 'R2': 0.9987293244171264}\n",
      "2025-04-08 12:36:34,779 - INFO - Y1 Best hyperparameters: {'num_est': 3000, 'max_d': 5, 'lr': 0.01}\n",
      "2025-04-08 12:36:34,779 - INFO - Running trial for target: Y2\n",
      "100%|██████████| 72/72 [00:56<00:00,  1.27it/s]\n",
      "2025-04-08 12:37:31,581 - INFO - Y2 Best metrics: {'MSE': 0.3977274113620496, 'R2': 0.9955907340942606}\n",
      "2025-04-08 12:37:31,581 - INFO - Y2 Best hyperparameters: {'num_est': 3000, 'max_d': 5, 'lr': 0.1}\n",
      "2025-04-08 12:37:31,581 - INFO - Complete best metrics: {'Y1': {'MSE': 0.12793584005269937, 'R2': 0.9987293244171264}, 'Y2': {'MSE': 0.3977274113620496, 'R2': 0.9955907340942606}}\n",
      "2025-04-08 12:37:31,581 - INFO - Complete best hyperparameters: {'Y1': {'num_est': 3000, 'max_d': 5, 'lr': 0.01}, 'Y2': {'num_est': 3000, 'max_d': 5, 'lr': 0.1}}\n"
     ]
    }
   ],
   "source": [
    "# Run single task trial with normalized data\n",
    "enb_single_task_metrics, enb_single_task_hps, enb_single_task_results = xg_boost_trial(\n",
    "    data=enb_data,\n",
    "    normalize=True,\n",
    "    cross_validation_k=5,\n",
    "    multi_task=False,\n",
    "    data_name='enb_norm_single_task',\n",
    ")"
   ]
  },
  {
   "cell_type": "code",
   "execution_count": 80,
   "id": "a4c87c1f",
   "metadata": {},
   "outputs": [
    {
     "name": "stderr",
     "output_type": "stream",
     "text": [
      "2025-04-08 12:37:31,734 - INFO - Running single-task trial\n",
      "2025-04-08 12:37:31,735 - INFO - Number of targets: 2\n",
      "2025-04-08 12:37:31,735 - INFO - Running trial for target: Y1\n",
      "100%|██████████| 72/72 [00:55<00:00,  1.30it/s]\n",
      "2025-04-08 12:38:26,930 - INFO - Y1 Best metrics: {'MSE': 0.1257138159432192, 'R2': 0.9987463920422164}\n",
      "2025-04-08 12:38:26,931 - INFO - Y1 Best hyperparameters: {'num_est': 500, 'max_d': 5, 'lr': 0.1}\n",
      "2025-04-08 12:38:26,931 - INFO - Running trial for target: Y2\n",
      "100%|██████████| 72/72 [00:56<00:00,  1.28it/s]\n",
      "2025-04-08 12:39:23,275 - INFO - Y2 Best metrics: {'MSE': 0.3987023864982944, 'R2': 0.9955782066229402}\n",
      "2025-04-08 12:39:23,275 - INFO - Y2 Best hyperparameters: {'num_est': 3000, 'max_d': 5, 'lr': 0.1}\n",
      "2025-04-08 12:39:23,276 - INFO - Complete best metrics: {'Y1': {'MSE': 0.1257138159432192, 'R2': 0.9987463920422164}, 'Y2': {'MSE': 0.3987023864982944, 'R2': 0.9955782066229402}}\n",
      "2025-04-08 12:39:23,276 - INFO - Complete best hyperparameters: {'Y1': {'num_est': 500, 'max_d': 5, 'lr': 0.1}, 'Y2': {'num_est': 3000, 'max_d': 5, 'lr': 0.1}}\n"
     ]
    }
   ],
   "source": [
    "# Run single task trial without normalization\n",
    "enb_single_task_metrics, enb_single_task_hps, enb_single_task_results = xg_boost_trial(\n",
    "    data=enb_data,\n",
    "    normalize=False,\n",
    "    cross_validation_k=5,\n",
    "    multi_task=False,\n",
    "    data_name='enb_no_norm_single_task',\n",
    ")"
   ]
  },
  {
   "cell_type": "markdown",
   "id": "120d5dd3",
   "metadata": {},
   "source": [
    "# ATP1D Data"
   ]
  },
  {
   "cell_type": "code",
   "execution_count": 81,
   "id": "c0bff49a",
   "metadata": {},
   "outputs": [],
   "source": [
    "atp1d_data = fetch_openml(data_id=41550, as_frame=True)"
   ]
  },
  {
   "cell_type": "code",
   "execution_count": 82,
   "id": "bd8eda1a",
   "metadata": {},
   "outputs": [
    {
     "name": "stdout",
     "output_type": "stream",
     "text": [
      "Zero variance columns:\n",
      "0\n"
     ]
    }
   ],
   "source": [
    "# Drop zero variance columns\n",
    "atp1d_data.data = atp1d_data.data.loc[:, atp1d_data.data.nunique() > 1]\n",
    "\n",
    "print(\"Zero variance columns:\")\n",
    "print((atp1d_data.data.nunique() <= 1).sum())"
   ]
  },
  {
   "cell_type": "code",
   "execution_count": 83,
   "id": "fbada548",
   "metadata": {},
   "outputs": [
    {
     "name": "stderr",
     "output_type": "stream",
     "text": [
      "2025-04-08 12:39:23,650 - INFO - Running multi-task trial\n",
      "100%|██████████| 72/72 [1:10:56<00:00, 59.12s/it] \n",
      "2025-04-08 13:50:20,393 - INFO - Best metrics: {'MSE': array([1709.50968944, 8965.68177296, 5666.49140706, 1888.74119437,\n",
      "       2056.0841468 , 2042.7943634 ]), 'R2': array([0.81225369, 0.85203047, 0.82294898, 0.92508933, 0.84451508,\n",
      "       0.92655207])}\n",
      "2025-04-08 13:50:20,396 - INFO - Best hyperparameters: {'num_est': 3000, 'max_d': 5, 'lr': 0.01}\n"
     ]
    }
   ],
   "source": [
    "# Run multitask trial with normalized data\n",
    "atp1d_multitask_metrics, atp1d_multitask_hps, atp1d_multitask_results = xg_boost_trial(\n",
    "    data=atp1d_data,\n",
    "    normalize=True,\n",
    "    cross_validation_k=5,\n",
    "    multi_task=True,\n",
    "    data_name='atp1d_norm_multitask',\n",
    ")"
   ]
  },
  {
   "cell_type": "code",
   "execution_count": 84,
   "id": "9eaac40b",
   "metadata": {},
   "outputs": [
    {
     "name": "stderr",
     "output_type": "stream",
     "text": [
      "2025-04-08 13:50:20,874 - INFO - Running multi-task trial\n",
      "100%|██████████| 72/72 [1:36:45<00:00, 80.63s/it] \n",
      "2025-04-08 15:27:06,618 - INFO - Best metrics: {'MSE': array([1740.8695, 9037.979 , 5735.6665, 1912.8171, 2093.1458, 2071.2974],\n",
      "      dtype=float32), 'R2': array([0.8087829 , 0.8504154 , 0.82083166, 0.9241756 , 0.84156096,\n",
      "       0.9255558 ], dtype=float32)}\n",
      "2025-04-08 15:27:06,621 - INFO - Best hyperparameters: {'num_est': 3000, 'max_d': 5, 'lr': 0.01}\n"
     ]
    }
   ],
   "source": [
    "# Run multitask trial without normalization\n",
    "atp1d_multitask_metrics, atp1d_multitask_hps, atp1d_multitask_results = xg_boost_trial(\n",
    "    data=atp1d_data,\n",
    "    normalize=False,\n",
    "    cross_validation_k=5,\n",
    "    multi_task=True,\n",
    "    data_name='atp1d_no_norm_multitask',\n",
    ")"
   ]
  },
  {
   "cell_type": "code",
   "execution_count": 85,
   "id": "f5bad070",
   "metadata": {},
   "outputs": [
    {
     "name": "stderr",
     "output_type": "stream",
     "text": [
      "2025-04-08 15:27:07,682 - INFO - Running single-task trial\n",
      "2025-04-08 15:27:07,682 - INFO - Number of targets: 6\n",
      "2025-04-08 15:27:07,682 - INFO - Running trial for target: LBL_ALLminpA_fut_001\n",
      "100%|██████████| 72/72 [07:56<00:00,  6.62s/it]\n",
      "2025-04-08 15:35:04,641 - INFO - LBL_ALLminpA_fut_001 Best metrics: {'MSE': 2031.561790870767, 'R2': 0.769280012447416}\n",
      "2025-04-08 15:35:04,642 - INFO - LBL_ALLminpA_fut_001 Best hyperparameters: {'num_est': 50, 'max_d': 2, 'lr': 0.1}\n",
      "2025-04-08 15:35:04,642 - INFO - Running trial for target: LBL_ALLminp0_fut_001\n",
      "100%|██████████| 72/72 [07:46<00:00,  6.48s/it]\n",
      "2025-04-08 15:42:51,286 - INFO - LBL_ALLminp0_fut_001 Best metrics: {'MSE': 10048.483089547943, 'R2': 0.832371794625381}\n",
      "2025-04-08 15:42:51,286 - INFO - LBL_ALLminp0_fut_001 Best hyperparameters: {'num_est': 3000, 'max_d': 1, 'lr': 0.01}\n",
      "2025-04-08 15:42:51,286 - INFO - Running trial for target: LBL_aDLminpA_fut_001\n",
      "100%|██████████| 72/72 [08:20<00:00,  6.95s/it]\n",
      "2025-04-08 15:51:11,407 - INFO - LBL_aDLminpA_fut_001 Best metrics: {'MSE': 6151.690157043276, 'R2': 0.8068843213487213}\n",
      "2025-04-08 15:51:11,407 - INFO - LBL_aDLminpA_fut_001 Best hyperparameters: {'num_est': 1000, 'max_d': 1, 'lr': 0.01}\n",
      "2025-04-08 15:51:11,407 - INFO - Running trial for target: LBL_aCOminpA_fut_001\n",
      "100%|██████████| 72/72 [07:47<00:00,  6.50s/it]\n",
      "2025-04-08 15:58:59,233 - INFO - LBL_aCOminpA_fut_001 Best metrics: {'MSE': 1568.4158827034184, 'R2': 0.9391036150284752}\n",
      "2025-04-08 15:58:59,234 - INFO - LBL_aCOminpA_fut_001 Best hyperparameters: {'num_est': 500, 'max_d': 3, 'lr': 0.1}\n",
      "2025-04-08 15:58:59,234 - INFO - Running trial for target: LBL_aFLminpA_fut_001\n",
      "100%|██████████| 72/72 [07:57<00:00,  6.63s/it]\n",
      "2025-04-08 16:06:56,928 - INFO - LBL_aFLminpA_fut_001 Best metrics: {'MSE': 2471.7424905612543, 'R2': 0.811134085059997}\n",
      "2025-04-08 16:06:56,929 - INFO - LBL_aFLminpA_fut_001 Best hyperparameters: {'num_est': 500, 'max_d': 3, 'lr': 0.01}\n",
      "2025-04-08 16:06:56,929 - INFO - Running trial for target: LBL_aUAminpA_fut_001\n",
      "100%|██████████| 72/72 [07:34<00:00,  6.31s/it]\n",
      "2025-04-08 16:14:31,140 - INFO - LBL_aUAminpA_fut_001 Best metrics: {'MSE': 1574.5765709922234, 'R2': 0.9442076618910681}\n",
      "2025-04-08 16:14:31,141 - INFO - LBL_aUAminpA_fut_001 Best hyperparameters: {'num_est': 3000, 'max_d': 3, 'lr': 0.1}\n",
      "2025-04-08 16:14:31,141 - INFO - Complete best metrics: {'LBL_ALLminpA_fut_001': {'MSE': 2031.561790870767, 'R2': 0.769280012447416}, 'LBL_ALLminp0_fut_001': {'MSE': 10048.483089547943, 'R2': 0.832371794625381}, 'LBL_aDLminpA_fut_001': {'MSE': 6151.690157043276, 'R2': 0.8068843213487213}, 'LBL_aCOminpA_fut_001': {'MSE': 1568.4158827034184, 'R2': 0.9391036150284752}, 'LBL_aFLminpA_fut_001': {'MSE': 2471.7424905612543, 'R2': 0.811134085059997}, 'LBL_aUAminpA_fut_001': {'MSE': 1574.5765709922234, 'R2': 0.9442076618910681}}\n",
      "2025-04-08 16:14:31,142 - INFO - Complete best hyperparameters: {'LBL_ALLminpA_fut_001': {'num_est': 50, 'max_d': 2, 'lr': 0.1}, 'LBL_ALLminp0_fut_001': {'num_est': 3000, 'max_d': 1, 'lr': 0.01}, 'LBL_aDLminpA_fut_001': {'num_est': 1000, 'max_d': 1, 'lr': 0.01}, 'LBL_aCOminpA_fut_001': {'num_est': 500, 'max_d': 3, 'lr': 0.1}, 'LBL_aFLminpA_fut_001': {'num_est': 500, 'max_d': 3, 'lr': 0.01}, 'LBL_aUAminpA_fut_001': {'num_est': 3000, 'max_d': 3, 'lr': 0.1}}\n"
     ]
    }
   ],
   "source": [
    "# Run single task trial with normalized data\n",
    "atp1d_single_task_metrics, atp1d_single_task_hps, atp1d_single_task_results = xg_boost_trial(\n",
    "    data=atp1d_data,\n",
    "    normalize=True,\n",
    "    cross_validation_k=5,\n",
    "    multi_task=False,\n",
    "    data_name='atp1d_norm_single_task',\n",
    ")"
   ]
  },
  {
   "cell_type": "code",
   "execution_count": 86,
   "id": "622862e9",
   "metadata": {},
   "outputs": [
    {
     "name": "stderr",
     "output_type": "stream",
     "text": [
      "2025-04-08 16:14:31,443 - INFO - Running single-task trial\n",
      "2025-04-08 16:14:31,443 - INFO - Number of targets: 6\n",
      "2025-04-08 16:14:31,443 - INFO - Running trial for target: LBL_ALLminpA_fut_001\n",
      "100%|██████████| 72/72 [08:13<00:00,  6.86s/it]\n",
      "2025-04-08 16:22:45,135 - INFO - LBL_ALLminpA_fut_001 Best metrics: {'MSE': 2031.5616455078125, 'R2': 0.7692800164222717}\n",
      "2025-04-08 16:22:45,136 - INFO - LBL_ALLminpA_fut_001 Best hyperparameters: {'num_est': 50, 'max_d': 2, 'lr': 0.1}\n",
      "2025-04-08 16:22:45,137 - INFO - Running trial for target: LBL_ALLminp0_fut_001\n",
      "100%|██████████| 72/72 [08:11<00:00,  6.83s/it]\n",
      "2025-04-08 16:30:56,794 - INFO - LBL_ALLminp0_fut_001 Best metrics: {'MSE': 10048.459375, 'R2': 0.8323590278625488}\n",
      "2025-04-08 16:30:56,795 - INFO - LBL_ALLminp0_fut_001 Best hyperparameters: {'num_est': 3000, 'max_d': 1, 'lr': 0.01}\n",
      "2025-04-08 16:30:56,795 - INFO - Running trial for target: LBL_aDLminpA_fut_001\n",
      "100%|██████████| 72/72 [08:17<00:00,  6.91s/it]\n",
      "2025-04-08 16:39:14,615 - INFO - LBL_aDLminpA_fut_001 Best metrics: {'MSE': 6151.689599609375, 'R2': 0.8068843364715577}\n",
      "2025-04-08 16:39:14,616 - INFO - LBL_aDLminpA_fut_001 Best hyperparameters: {'num_est': 1000, 'max_d': 1, 'lr': 0.01}\n",
      "2025-04-08 16:39:14,616 - INFO - Running trial for target: LBL_aCOminpA_fut_001\n",
      "100%|██████████| 72/72 [07:29<00:00,  6.24s/it]\n",
      "2025-04-08 16:46:43,844 - INFO - LBL_aCOminpA_fut_001 Best metrics: {'MSE': 1569.6568359375, 'R2': 0.9390464186668396}\n",
      "2025-04-08 16:46:43,845 - INFO - LBL_aCOminpA_fut_001 Best hyperparameters: {'num_est': 500, 'max_d': 3, 'lr': 0.1}\n",
      "2025-04-08 16:46:43,845 - INFO - Running trial for target: LBL_aFLminpA_fut_001\n",
      "100%|██████████| 72/72 [47:56<00:00, 39.95s/it]   \n",
      "2025-04-08 17:34:39,924 - INFO - LBL_aFLminpA_fut_001 Best metrics: {'MSE': 2471.742529296875, 'R2': 0.8111340999603271}\n",
      "2025-04-08 17:34:39,925 - INFO - LBL_aFLminpA_fut_001 Best hyperparameters: {'num_est': 500, 'max_d': 3, 'lr': 0.01}\n",
      "2025-04-08 17:34:39,925 - INFO - Running trial for target: LBL_aUAminpA_fut_001\n",
      "100%|██████████| 72/72 [07:02<00:00,  5.87s/it]\n",
      "2025-04-08 17:41:42,633 - INFO - LBL_aUAminpA_fut_001 Best metrics: {'MSE': 1575.127685546875, 'R2': 0.9441877007484436}\n",
      "2025-04-08 17:41:42,634 - INFO - LBL_aUAminpA_fut_001 Best hyperparameters: {'num_est': 1000, 'max_d': 3, 'lr': 0.1}\n",
      "2025-04-08 17:41:42,634 - INFO - Complete best metrics: {'LBL_ALLminpA_fut_001': {'MSE': 2031.5616455078125, 'R2': 0.7692800164222717}, 'LBL_ALLminp0_fut_001': {'MSE': 10048.459375, 'R2': 0.8323590278625488}, 'LBL_aDLminpA_fut_001': {'MSE': 6151.689599609375, 'R2': 0.8068843364715577}, 'LBL_aCOminpA_fut_001': {'MSE': 1569.6568359375, 'R2': 0.9390464186668396}, 'LBL_aFLminpA_fut_001': {'MSE': 2471.742529296875, 'R2': 0.8111340999603271}, 'LBL_aUAminpA_fut_001': {'MSE': 1575.127685546875, 'R2': 0.9441877007484436}}\n",
      "2025-04-08 17:41:42,635 - INFO - Complete best hyperparameters: {'LBL_ALLminpA_fut_001': {'num_est': 50, 'max_d': 2, 'lr': 0.1}, 'LBL_ALLminp0_fut_001': {'num_est': 3000, 'max_d': 1, 'lr': 0.01}, 'LBL_aDLminpA_fut_001': {'num_est': 1000, 'max_d': 1, 'lr': 0.01}, 'LBL_aCOminpA_fut_001': {'num_est': 500, 'max_d': 3, 'lr': 0.1}, 'LBL_aFLminpA_fut_001': {'num_est': 500, 'max_d': 3, 'lr': 0.01}, 'LBL_aUAminpA_fut_001': {'num_est': 1000, 'max_d': 3, 'lr': 0.1}}\n"
     ]
    }
   ],
   "source": [
    "# Run single task trial without normalization\n",
    "atp1d_single_task_metrics, atp1d_single_task_hps, atp1d_single_task_results = xg_boost_trial(\n",
    "    data=atp1d_data,\n",
    "    normalize=False,\n",
    "    cross_validation_k=5,\n",
    "    multi_task=False,\n",
    "    data_name='atp1d_no_norm_single_task',\n",
    ")"
   ]
  },
  {
   "cell_type": "code",
   "execution_count": 87,
   "id": "d3ad08e0",
   "metadata": {},
   "outputs": [
    {
     "name": "stdout",
     "output_type": "stream",
     "text": [
      "<class 'pandas.core.frame.DataFrame'>\n",
      "RangeIndex: 359 entries, 0 to 358\n",
      "Data columns (total 15 columns):\n",
      " #   Column     Non-Null Count  Dtype  \n",
      "---  ------     --------------  -----  \n",
      " 0   Xloc       359 non-null    float64\n",
      " 1   Yloc       359 non-null    float64\n",
      " 2   Landuse_1  359 non-null    int64  \n",
      " 3   Landuse_2  359 non-null    int64  \n",
      " 4   Landuse_3  359 non-null    int64  \n",
      " 5   Landuse_4  359 non-null    int64  \n",
      " 6   Rock_1     359 non-null    int64  \n",
      " 7   Rock_2     359 non-null    int64  \n",
      " 8   Rock_3     359 non-null    int64  \n",
      " 9   Rock_4     359 non-null    int64  \n",
      " 10  Rock_5     359 non-null    int64  \n",
      " 11  Cr         359 non-null    float64\n",
      " 12  Ni         359 non-null    float64\n",
      " 13  Pb         359 non-null    float64\n",
      " 14  Zn         359 non-null    float64\n",
      "dtypes: float64(6), int64(9)\n",
      "memory usage: 42.2 KB\n",
      "<class 'pandas.core.frame.DataFrame'>\n",
      "RangeIndex: 359 entries, 0 to 358\n",
      "Data columns (total 3 columns):\n",
      " #   Column  Non-Null Count  Dtype  \n",
      "---  ------  --------------  -----  \n",
      " 0   Cd      359 non-null    float64\n",
      " 1   Co      359 non-null    float64\n",
      " 2   Cu      359 non-null    float64\n",
      "dtypes: float64(3)\n",
      "memory usage: 8.5 KB\n",
      "<class 'pandas.core.frame.DataFrame'>\n",
      "RangeIndex: 768 entries, 0 to 767\n",
      "Data columns (total 8 columns):\n",
      " #   Column                Non-Null Count  Dtype  \n",
      "---  ------                --------------  -----  \n",
      " 0   Relative_compactness  768 non-null    float64\n",
      " 1   X1                    768 non-null    float64\n",
      " 2   X3                    768 non-null    float64\n",
      " 3   X4                    768 non-null    float64\n",
      " 4   X5                    768 non-null    float64\n",
      " 5   X6                    768 non-null    int64  \n",
      " 6   X7                    768 non-null    float64\n",
      " 7   X8                    768 non-null    int64  \n",
      "dtypes: float64(6), int64(2)\n",
      "memory usage: 48.1 KB\n",
      "<class 'pandas.core.frame.DataFrame'>\n",
      "RangeIndex: 768 entries, 0 to 767\n",
      "Data columns (total 2 columns):\n",
      " #   Column  Non-Null Count  Dtype  \n",
      "---  ------  --------------  -----  \n",
      " 0   Y1      768 non-null    float64\n",
      " 1   Y2      768 non-null    float64\n",
      "dtypes: float64(2)\n",
      "memory usage: 12.1 KB\n",
      "<class 'pandas.core.frame.DataFrame'>\n",
      "RangeIndex: 337 entries, 0 to 336\n",
      "Columns: 370 entries, departwb to fdisoweekday7\n",
      "dtypes: float64(133), int64(237)\n",
      "memory usage: 974.3 KB\n",
      "<class 'pandas.core.frame.DataFrame'>\n",
      "RangeIndex: 337 entries, 0 to 336\n",
      "Data columns (total 6 columns):\n",
      " #   Column                Non-Null Count  Dtype\n",
      "---  ------                --------------  -----\n",
      " 0   LBL_ALLminpA_fut_001  337 non-null    int64\n",
      " 1   LBL_ALLminp0_fut_001  337 non-null    int64\n",
      " 2   LBL_aDLminpA_fut_001  337 non-null    int64\n",
      " 3   LBL_aCOminpA_fut_001  337 non-null    int64\n",
      " 4   LBL_aFLminpA_fut_001  337 non-null    int64\n",
      " 5   LBL_aUAminpA_fut_001  337 non-null    int64\n",
      "dtypes: int64(6)\n",
      "memory usage: 15.9 KB\n"
     ]
    }
   ],
   "source": [
    "# Look at characteristics of the datasets\n",
    "jura_data.data.describe()\n",
    "jura_data.data.info()\n",
    "jura_data.target.describe()\n",
    "jura_data.target.info()\n",
    "\n",
    "enb_data.data.describe()\n",
    "enb_data.data.info()\n",
    "enb_data.target.describe()\n",
    "enb_data.target.info()\n",
    "\n",
    "atp1d_data.data.describe()\n",
    "atp1d_data.data.info()\n",
    "atp1d_data.target.describe()\n",
    "atp1d_data.target.info()"
   ]
  }
 ],
 "metadata": {
  "kernelspec": {
   "display_name": "507-proj",
   "language": "python",
   "name": "python3"
  },
  "language_info": {
   "codemirror_mode": {
    "name": "ipython",
    "version": 3
   },
   "file_extension": ".py",
   "mimetype": "text/x-python",
   "name": "python",
   "nbconvert_exporter": "python",
   "pygments_lexer": "ipython3",
   "version": "3.13.2"
  }
 },
 "nbformat": 4,
 "nbformat_minor": 5
}
